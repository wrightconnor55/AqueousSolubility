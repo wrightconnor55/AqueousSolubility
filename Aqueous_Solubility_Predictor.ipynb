{
 "cells": [
  {
   "cell_type": "code",
   "execution_count": 1,
   "id": "c0452e0b",
   "metadata": {},
   "outputs": [],
   "source": [
    "import pandas as pd\n",
    "import numpy as np\n",
    "import matplotlib.pyplot as plt\n",
    "import seaborn as sns"
   ]
  },
  {
   "cell_type": "markdown",
   "id": "ead7aa39",
   "metadata": {},
   "source": [
    "### Data Acquisition"
   ]
  },
  {
   "cell_type": "code",
   "execution_count": 2,
   "id": "b30f0598",
   "metadata": {},
   "outputs": [],
   "source": [
    "chem = pd.read_csv('solubility_data.csv')"
   ]
  },
  {
   "cell_type": "code",
   "execution_count": 3,
   "id": "5477de08",
   "metadata": {},
   "outputs": [],
   "source": [
    "data = chem.copy()"
   ]
  },
  {
   "cell_type": "markdown",
   "id": "ea95c007",
   "metadata": {},
   "source": [
    "### Exploratory Data Analysis"
   ]
  },
  {
   "cell_type": "markdown",
   "id": "e3c6cd68",
   "metadata": {},
   "source": [
    "1. ID: A key showing which molecules came from what data set (A-I) and their number from the dataset.\n",
    "2. Name: IUPAC name of chemical, i.e., the molecule's name in standardized nomenclature.\n",
    "3. InChl: International Chemical Identifier, for showing chemical information.\n",
    "4. InChlKey: Key for the Internation Chemical Identifier for deciphering the InChl.\n",
    "5. SMILES: Line notation for displaying chemical structure in ASCII format.\n",
    "6. Solubility: The log aqueous solubility of the molecule ( 0 to -2: soluble, -2 to -4: slightly soluble, less than -4: insoluble).\n",
    "7. SD: standard deviation of log aqueous solubility.\n",
    "8. Occurrence: Number of times the molecule appeared in the nine datasets.\n",
    "9. Group: Separation of molecules into groups based on occurrence, mean of the solubility, and/or accuracy to the reference solubility (see Sorkun et al. 2019 for more details).\n",
    "10. MolWt: Molecular weight of the molecule in g/mol.\n",
    "11. MolLogP: Octanal-water partition coefficient.\n",
    "12. MolMR: Molar refractivity of the molecule.\n",
    "13. HeavyAtomCount: The number of heavy atoms (atoms that are not hydrogen)\n",
    "14. NumHAcceptors: Number of hydrogen acceptors present.\n",
    "15. NumHDonors: Number of hydrogen donors.\n",
    "16. NumHeteroatoms: Number of atoms that are not hydrogen or carbon.\n",
    "17. NumRotatableBonds: The number of bonds present that can undergo a rotation.\n",
    "18. NumValenceElectrons: The total number of valence electrons present in the molecule.\n",
    "19. NumAromaticRings: The number of aromatic rings present in the molecule.\n",
    "20. NumSaturatedRings: The number of rings composed of only single bonds.\n",
    "21. NumAliphaticRings: The number of non-aromatic rings present.\n",
    "22. RingCount: The total number of rings present in the molecule.\n",
    "23. TPSA: The topological polar surface area, i.e., the sum of the surface area filled by polar atoms.\n",
    "24. LabuteASA: The surface area accessible by a solvent (in this case, water).\n",
    "25. Balabanj: Balaban’s J index describes the molecular accessibility of the chemical.\n",
    "26. BertzCT: A measure of the complexity of bonding and distribution of heteroatoms.\n"
   ]
  },
  {
   "cell_type": "code",
   "execution_count": 4,
   "id": "0f721eaf",
   "metadata": {},
   "outputs": [
    {
     "data": {
      "text/plain": [
       "(9982, 26)"
      ]
     },
     "execution_count": 4,
     "metadata": {},
     "output_type": "execute_result"
    }
   ],
   "source": [
    "#Checking the data was imported correctly\n",
    "data.shape"
   ]
  },
  {
   "cell_type": "code",
   "execution_count": 5,
   "id": "1633d6df",
   "metadata": {},
   "outputs": [
    {
     "data": {
      "text/html": [
       "<div>\n",
       "<style scoped>\n",
       "    .dataframe tbody tr th:only-of-type {\n",
       "        vertical-align: middle;\n",
       "    }\n",
       "\n",
       "    .dataframe tbody tr th {\n",
       "        vertical-align: top;\n",
       "    }\n",
       "\n",
       "    .dataframe thead th {\n",
       "        text-align: right;\n",
       "    }\n",
       "</style>\n",
       "<table border=\"1\" class=\"dataframe\">\n",
       "  <thead>\n",
       "    <tr style=\"text-align: right;\">\n",
       "      <th></th>\n",
       "      <th>ID</th>\n",
       "      <th>Name</th>\n",
       "      <th>InChI</th>\n",
       "      <th>InChIKey</th>\n",
       "      <th>SMILES</th>\n",
       "      <th>Solubility</th>\n",
       "      <th>SD</th>\n",
       "      <th>Ocurrences</th>\n",
       "      <th>Group</th>\n",
       "      <th>MolWt</th>\n",
       "      <th>...</th>\n",
       "      <th>NumRotatableBonds</th>\n",
       "      <th>NumValenceElectrons</th>\n",
       "      <th>NumAromaticRings</th>\n",
       "      <th>NumSaturatedRings</th>\n",
       "      <th>NumAliphaticRings</th>\n",
       "      <th>RingCount</th>\n",
       "      <th>TPSA</th>\n",
       "      <th>LabuteASA</th>\n",
       "      <th>BalabanJ</th>\n",
       "      <th>BertzCT</th>\n",
       "    </tr>\n",
       "  </thead>\n",
       "  <tbody>\n",
       "    <tr>\n",
       "      <th>0</th>\n",
       "      <td>A-3</td>\n",
       "      <td>N,N,N-trimethyloctadecan-1-aminium bromide</td>\n",
       "      <td>InChI=1S/C21H46N.BrH/c1-5-6-7-8-9-10-11-12-13-...</td>\n",
       "      <td>SZEMGTQCPRNXEG-UHFFFAOYSA-M</td>\n",
       "      <td>[Br-].CCCCCCCCCCCCCCCCCC[N+](C)(C)C</td>\n",
       "      <td>-3.616127</td>\n",
       "      <td>0.0</td>\n",
       "      <td>1</td>\n",
       "      <td>G1</td>\n",
       "      <td>392.510</td>\n",
       "      <td>...</td>\n",
       "      <td>17.0</td>\n",
       "      <td>142.0</td>\n",
       "      <td>0.0</td>\n",
       "      <td>0.0</td>\n",
       "      <td>0.0</td>\n",
       "      <td>0.0</td>\n",
       "      <td>0.00</td>\n",
       "      <td>158.520601</td>\n",
       "      <td>0.000000e+00</td>\n",
       "      <td>210.377334</td>\n",
       "    </tr>\n",
       "    <tr>\n",
       "      <th>1</th>\n",
       "      <td>A-4</td>\n",
       "      <td>Benzo[cd]indol-2(1H)-one</td>\n",
       "      <td>InChI=1S/C11H7NO/c13-11-8-5-1-3-7-4-2-6-9(12-1...</td>\n",
       "      <td>GPYLCFQEKPUWLD-UHFFFAOYSA-N</td>\n",
       "      <td>O=C1Nc2cccc3cccc1c23</td>\n",
       "      <td>-3.254767</td>\n",
       "      <td>0.0</td>\n",
       "      <td>1</td>\n",
       "      <td>G1</td>\n",
       "      <td>169.183</td>\n",
       "      <td>...</td>\n",
       "      <td>0.0</td>\n",
       "      <td>62.0</td>\n",
       "      <td>2.0</td>\n",
       "      <td>0.0</td>\n",
       "      <td>1.0</td>\n",
       "      <td>3.0</td>\n",
       "      <td>29.10</td>\n",
       "      <td>75.183563</td>\n",
       "      <td>2.582996e+00</td>\n",
       "      <td>511.229248</td>\n",
       "    </tr>\n",
       "    <tr>\n",
       "      <th>2</th>\n",
       "      <td>A-5</td>\n",
       "      <td>4-chlorobenzaldehyde</td>\n",
       "      <td>InChI=1S/C7H5ClO/c8-7-3-1-6(5-9)2-4-7/h1-5H</td>\n",
       "      <td>AVPYQKSLYISFPO-UHFFFAOYSA-N</td>\n",
       "      <td>Clc1ccc(C=O)cc1</td>\n",
       "      <td>-2.177078</td>\n",
       "      <td>0.0</td>\n",
       "      <td>1</td>\n",
       "      <td>G1</td>\n",
       "      <td>140.569</td>\n",
       "      <td>...</td>\n",
       "      <td>1.0</td>\n",
       "      <td>46.0</td>\n",
       "      <td>1.0</td>\n",
       "      <td>0.0</td>\n",
       "      <td>0.0</td>\n",
       "      <td>1.0</td>\n",
       "      <td>17.07</td>\n",
       "      <td>58.261134</td>\n",
       "      <td>3.009782e+00</td>\n",
       "      <td>202.661065</td>\n",
       "    </tr>\n",
       "    <tr>\n",
       "      <th>3</th>\n",
       "      <td>A-8</td>\n",
       "      <td>zinc bis[2-hydroxy-3,5-bis(1-phenylethyl)benzo...</td>\n",
       "      <td>InChI=1S/2C23H22O3.Zn/c2*1-15(17-9-5-3-6-10-17...</td>\n",
       "      <td>XTUPUYCJWKHGSW-UHFFFAOYSA-L</td>\n",
       "      <td>[Zn++].CC(c1ccccc1)c2cc(C(C)c3ccccc3)c(O)c(c2)...</td>\n",
       "      <td>-3.924409</td>\n",
       "      <td>0.0</td>\n",
       "      <td>1</td>\n",
       "      <td>G1</td>\n",
       "      <td>756.226</td>\n",
       "      <td>...</td>\n",
       "      <td>10.0</td>\n",
       "      <td>264.0</td>\n",
       "      <td>6.0</td>\n",
       "      <td>0.0</td>\n",
       "      <td>0.0</td>\n",
       "      <td>6.0</td>\n",
       "      <td>120.72</td>\n",
       "      <td>323.755434</td>\n",
       "      <td>2.322963e-07</td>\n",
       "      <td>1964.648666</td>\n",
       "    </tr>\n",
       "    <tr>\n",
       "      <th>4</th>\n",
       "      <td>A-9</td>\n",
       "      <td>4-({4-[bis(oxiran-2-ylmethyl)amino]phenyl}meth...</td>\n",
       "      <td>InChI=1S/C25H30N2O4/c1-5-20(26(10-22-14-28-22)...</td>\n",
       "      <td>FAUAZXVRLVIARB-UHFFFAOYSA-N</td>\n",
       "      <td>C1OC1CN(CC2CO2)c3ccc(Cc4ccc(cc4)N(CC5CO5)CC6CO...</td>\n",
       "      <td>-4.662065</td>\n",
       "      <td>0.0</td>\n",
       "      <td>1</td>\n",
       "      <td>G1</td>\n",
       "      <td>422.525</td>\n",
       "      <td>...</td>\n",
       "      <td>12.0</td>\n",
       "      <td>164.0</td>\n",
       "      <td>2.0</td>\n",
       "      <td>4.0</td>\n",
       "      <td>4.0</td>\n",
       "      <td>6.0</td>\n",
       "      <td>56.60</td>\n",
       "      <td>183.183268</td>\n",
       "      <td>1.084427e+00</td>\n",
       "      <td>769.899934</td>\n",
       "    </tr>\n",
       "  </tbody>\n",
       "</table>\n",
       "<p>5 rows × 26 columns</p>\n",
       "</div>"
      ],
      "text/plain": [
       "    ID                                               Name  \\\n",
       "0  A-3         N,N,N-trimethyloctadecan-1-aminium bromide   \n",
       "1  A-4                           Benzo[cd]indol-2(1H)-one   \n",
       "2  A-5                               4-chlorobenzaldehyde   \n",
       "3  A-8  zinc bis[2-hydroxy-3,5-bis(1-phenylethyl)benzo...   \n",
       "4  A-9  4-({4-[bis(oxiran-2-ylmethyl)amino]phenyl}meth...   \n",
       "\n",
       "                                               InChI  \\\n",
       "0  InChI=1S/C21H46N.BrH/c1-5-6-7-8-9-10-11-12-13-...   \n",
       "1  InChI=1S/C11H7NO/c13-11-8-5-1-3-7-4-2-6-9(12-1...   \n",
       "2        InChI=1S/C7H5ClO/c8-7-3-1-6(5-9)2-4-7/h1-5H   \n",
       "3  InChI=1S/2C23H22O3.Zn/c2*1-15(17-9-5-3-6-10-17...   \n",
       "4  InChI=1S/C25H30N2O4/c1-5-20(26(10-22-14-28-22)...   \n",
       "\n",
       "                      InChIKey  \\\n",
       "0  SZEMGTQCPRNXEG-UHFFFAOYSA-M   \n",
       "1  GPYLCFQEKPUWLD-UHFFFAOYSA-N   \n",
       "2  AVPYQKSLYISFPO-UHFFFAOYSA-N   \n",
       "3  XTUPUYCJWKHGSW-UHFFFAOYSA-L   \n",
       "4  FAUAZXVRLVIARB-UHFFFAOYSA-N   \n",
       "\n",
       "                                              SMILES  Solubility   SD  \\\n",
       "0                [Br-].CCCCCCCCCCCCCCCCCC[N+](C)(C)C   -3.616127  0.0   \n",
       "1                               O=C1Nc2cccc3cccc1c23   -3.254767  0.0   \n",
       "2                                    Clc1ccc(C=O)cc1   -2.177078  0.0   \n",
       "3  [Zn++].CC(c1ccccc1)c2cc(C(C)c3ccccc3)c(O)c(c2)...   -3.924409  0.0   \n",
       "4  C1OC1CN(CC2CO2)c3ccc(Cc4ccc(cc4)N(CC5CO5)CC6CO...   -4.662065  0.0   \n",
       "\n",
       "   Ocurrences Group    MolWt  ...  NumRotatableBonds  NumValenceElectrons  \\\n",
       "0           1    G1  392.510  ...               17.0                142.0   \n",
       "1           1    G1  169.183  ...                0.0                 62.0   \n",
       "2           1    G1  140.569  ...                1.0                 46.0   \n",
       "3           1    G1  756.226  ...               10.0                264.0   \n",
       "4           1    G1  422.525  ...               12.0                164.0   \n",
       "\n",
       "   NumAromaticRings  NumSaturatedRings  NumAliphaticRings  RingCount    TPSA  \\\n",
       "0               0.0                0.0                0.0        0.0    0.00   \n",
       "1               2.0                0.0                1.0        3.0   29.10   \n",
       "2               1.0                0.0                0.0        1.0   17.07   \n",
       "3               6.0                0.0                0.0        6.0  120.72   \n",
       "4               2.0                4.0                4.0        6.0   56.60   \n",
       "\n",
       "    LabuteASA      BalabanJ      BertzCT  \n",
       "0  158.520601  0.000000e+00   210.377334  \n",
       "1   75.183563  2.582996e+00   511.229248  \n",
       "2   58.261134  3.009782e+00   202.661065  \n",
       "3  323.755434  2.322963e-07  1964.648666  \n",
       "4  183.183268  1.084427e+00   769.899934  \n",
       "\n",
       "[5 rows x 26 columns]"
      ]
     },
     "execution_count": 5,
     "metadata": {},
     "output_type": "execute_result"
    }
   ],
   "source": [
    "#Obtaining sense of data\n",
    "data.head()"
   ]
  },
  {
   "cell_type": "code",
   "execution_count": 6,
   "id": "995565b0",
   "metadata": {},
   "outputs": [],
   "source": [
    "#For this machine learning task, the ID, Name, InChl, InChlKey, and SMILES variables have no relevance and are only identifiers\n",
    "data = data.drop(['ID', 'Name', 'InChI', 'InChIKey', 'SMILES'], axis = 1)\n",
    "\n",
    "#SD, Ocurrences, and Group also has no relevance for predicting solubility, rather they refer to how the literature value was sourced\n",
    "data = data.drop(['SD', 'Ocurrences', 'Group'], axis = 1)"
   ]
  },
  {
   "cell_type": "code",
   "execution_count": 7,
   "id": "d73c0a12",
   "metadata": {},
   "outputs": [
    {
     "name": "stdout",
     "output_type": "stream",
     "text": [
      "<class 'pandas.core.frame.DataFrame'>\n",
      "RangeIndex: 9982 entries, 0 to 9981\n",
      "Data columns (total 18 columns):\n",
      " #   Column               Non-Null Count  Dtype  \n",
      "---  ------               --------------  -----  \n",
      " 0   Solubility           9982 non-null   float64\n",
      " 1   MolWt                9982 non-null   float64\n",
      " 2   MolLogP              9982 non-null   float64\n",
      " 3   MolMR                9982 non-null   float64\n",
      " 4   HeavyAtomCount       9982 non-null   float64\n",
      " 5   NumHAcceptors        9982 non-null   float64\n",
      " 6   NumHDonors           9982 non-null   float64\n",
      " 7   NumHeteroatoms       9982 non-null   float64\n",
      " 8   NumRotatableBonds    9982 non-null   float64\n",
      " 9   NumValenceElectrons  9982 non-null   float64\n",
      " 10  NumAromaticRings     9982 non-null   float64\n",
      " 11  NumSaturatedRings    9982 non-null   float64\n",
      " 12  NumAliphaticRings    9982 non-null   float64\n",
      " 13  RingCount            9982 non-null   float64\n",
      " 14  TPSA                 9982 non-null   float64\n",
      " 15  LabuteASA            9982 non-null   float64\n",
      " 16  BalabanJ             9982 non-null   float64\n",
      " 17  BertzCT              9982 non-null   float64\n",
      "dtypes: float64(18)\n",
      "memory usage: 1.4 MB\n"
     ]
    }
   ],
   "source": [
    "data.info()"
   ]
  },
  {
   "cell_type": "markdown",
   "id": "5e71db6c",
   "metadata": {},
   "source": [
    "All the features are of numeric type. Additionally there appears to be no Null values, this will be investigated briefly."
   ]
  },
  {
   "cell_type": "code",
   "execution_count": 8,
   "id": "7dcb8cfc",
   "metadata": {},
   "outputs": [
    {
     "data": {
      "text/html": [
       "<div>\n",
       "<style scoped>\n",
       "    .dataframe tbody tr th:only-of-type {\n",
       "        vertical-align: middle;\n",
       "    }\n",
       "\n",
       "    .dataframe tbody tr th {\n",
       "        vertical-align: top;\n",
       "    }\n",
       "\n",
       "    .dataframe thead th {\n",
       "        text-align: right;\n",
       "    }\n",
       "</style>\n",
       "<table border=\"1\" class=\"dataframe\">\n",
       "  <thead>\n",
       "    <tr style=\"text-align: right;\">\n",
       "      <th></th>\n",
       "      <th>Solubility</th>\n",
       "      <th>MolWt</th>\n",
       "      <th>MolLogP</th>\n",
       "      <th>MolMR</th>\n",
       "      <th>HeavyAtomCount</th>\n",
       "      <th>NumHAcceptors</th>\n",
       "      <th>NumHDonors</th>\n",
       "      <th>NumHeteroatoms</th>\n",
       "      <th>NumRotatableBonds</th>\n",
       "      <th>NumValenceElectrons</th>\n",
       "      <th>NumAromaticRings</th>\n",
       "      <th>NumSaturatedRings</th>\n",
       "      <th>NumAliphaticRings</th>\n",
       "      <th>RingCount</th>\n",
       "      <th>TPSA</th>\n",
       "      <th>LabuteASA</th>\n",
       "      <th>BalabanJ</th>\n",
       "      <th>BertzCT</th>\n",
       "    </tr>\n",
       "  </thead>\n",
       "  <tbody>\n",
       "    <tr>\n",
       "      <th>count</th>\n",
       "      <td>9982.000000</td>\n",
       "      <td>9982.000000</td>\n",
       "      <td>9982.000000</td>\n",
       "      <td>9982.000000</td>\n",
       "      <td>9982.000000</td>\n",
       "      <td>9982.000000</td>\n",
       "      <td>9982.000000</td>\n",
       "      <td>9982.000000</td>\n",
       "      <td>9982.000000</td>\n",
       "      <td>9982.000000</td>\n",
       "      <td>9982.000000</td>\n",
       "      <td>9982.000000</td>\n",
       "      <td>9982.000000</td>\n",
       "      <td>9982.000000</td>\n",
       "      <td>9982.000000</td>\n",
       "      <td>9982.000000</td>\n",
       "      <td>9982.000000</td>\n",
       "      <td>9982.000000</td>\n",
       "    </tr>\n",
       "    <tr>\n",
       "      <th>mean</th>\n",
       "      <td>-2.889909</td>\n",
       "      <td>266.665946</td>\n",
       "      <td>1.979167</td>\n",
       "      <td>66.794594</td>\n",
       "      <td>17.374674</td>\n",
       "      <td>3.486776</td>\n",
       "      <td>1.108595</td>\n",
       "      <td>5.196955</td>\n",
       "      <td>4.073031</td>\n",
       "      <td>94.243438</td>\n",
       "      <td>1.068323</td>\n",
       "      <td>0.292627</td>\n",
       "      <td>0.447606</td>\n",
       "      <td>1.515929</td>\n",
       "      <td>62.458601</td>\n",
       "      <td>108.912586</td>\n",
       "      <td>2.392199</td>\n",
       "      <td>467.336782</td>\n",
       "    </tr>\n",
       "    <tr>\n",
       "      <th>std</th>\n",
       "      <td>2.368154</td>\n",
       "      <td>184.179024</td>\n",
       "      <td>3.517738</td>\n",
       "      <td>46.523021</td>\n",
       "      <td>12.241536</td>\n",
       "      <td>3.498203</td>\n",
       "      <td>1.488973</td>\n",
       "      <td>4.736275</td>\n",
       "      <td>5.646925</td>\n",
       "      <td>64.748563</td>\n",
       "      <td>1.309427</td>\n",
       "      <td>0.879599</td>\n",
       "      <td>1.054667</td>\n",
       "      <td>1.644334</td>\n",
       "      <td>63.348307</td>\n",
       "      <td>76.462726</td>\n",
       "      <td>1.091123</td>\n",
       "      <td>546.631696</td>\n",
       "    </tr>\n",
       "    <tr>\n",
       "      <th>min</th>\n",
       "      <td>-13.171900</td>\n",
       "      <td>9.012000</td>\n",
       "      <td>-40.873200</td>\n",
       "      <td>0.000000</td>\n",
       "      <td>1.000000</td>\n",
       "      <td>0.000000</td>\n",
       "      <td>0.000000</td>\n",
       "      <td>0.000000</td>\n",
       "      <td>0.000000</td>\n",
       "      <td>0.000000</td>\n",
       "      <td>0.000000</td>\n",
       "      <td>0.000000</td>\n",
       "      <td>0.000000</td>\n",
       "      <td>0.000000</td>\n",
       "      <td>0.000000</td>\n",
       "      <td>7.504228</td>\n",
       "      <td>-0.000004</td>\n",
       "      <td>0.000000</td>\n",
       "    </tr>\n",
       "    <tr>\n",
       "      <th>25%</th>\n",
       "      <td>-4.326325</td>\n",
       "      <td>162.276000</td>\n",
       "      <td>0.619750</td>\n",
       "      <td>40.602475</td>\n",
       "      <td>11.000000</td>\n",
       "      <td>2.000000</td>\n",
       "      <td>0.000000</td>\n",
       "      <td>3.000000</td>\n",
       "      <td>1.000000</td>\n",
       "      <td>58.000000</td>\n",
       "      <td>0.000000</td>\n",
       "      <td>0.000000</td>\n",
       "      <td>0.000000</td>\n",
       "      <td>0.000000</td>\n",
       "      <td>26.300000</td>\n",
       "      <td>66.623721</td>\n",
       "      <td>2.004357</td>\n",
       "      <td>163.243343</td>\n",
       "    </tr>\n",
       "    <tr>\n",
       "      <th>50%</th>\n",
       "      <td>-2.618173</td>\n",
       "      <td>228.682000</td>\n",
       "      <td>1.949220</td>\n",
       "      <td>58.633400</td>\n",
       "      <td>15.000000</td>\n",
       "      <td>3.000000</td>\n",
       "      <td>1.000000</td>\n",
       "      <td>4.000000</td>\n",
       "      <td>3.000000</td>\n",
       "      <td>82.000000</td>\n",
       "      <td>1.000000</td>\n",
       "      <td>0.000000</td>\n",
       "      <td>0.000000</td>\n",
       "      <td>1.000000</td>\n",
       "      <td>50.720000</td>\n",
       "      <td>93.299873</td>\n",
       "      <td>2.539539</td>\n",
       "      <td>351.640433</td>\n",
       "    </tr>\n",
       "    <tr>\n",
       "      <th>75%</th>\n",
       "      <td>-1.209735</td>\n",
       "      <td>320.436000</td>\n",
       "      <td>3.419030</td>\n",
       "      <td>81.938000</td>\n",
       "      <td>21.000000</td>\n",
       "      <td>4.000000</td>\n",
       "      <td>2.000000</td>\n",
       "      <td>6.000000</td>\n",
       "      <td>5.000000</td>\n",
       "      <td>112.000000</td>\n",
       "      <td>2.000000</td>\n",
       "      <td>0.000000</td>\n",
       "      <td>1.000000</td>\n",
       "      <td>2.000000</td>\n",
       "      <td>80.390000</td>\n",
       "      <td>129.118374</td>\n",
       "      <td>3.032456</td>\n",
       "      <td>606.562848</td>\n",
       "    </tr>\n",
       "    <tr>\n",
       "      <th>max</th>\n",
       "      <td>2.137682</td>\n",
       "      <td>5299.456000</td>\n",
       "      <td>68.541140</td>\n",
       "      <td>1419.351700</td>\n",
       "      <td>388.000000</td>\n",
       "      <td>86.000000</td>\n",
       "      <td>26.000000</td>\n",
       "      <td>89.000000</td>\n",
       "      <td>141.000000</td>\n",
       "      <td>2012.000000</td>\n",
       "      <td>35.000000</td>\n",
       "      <td>30.000000</td>\n",
       "      <td>30.000000</td>\n",
       "      <td>36.000000</td>\n",
       "      <td>1214.340000</td>\n",
       "      <td>2230.685124</td>\n",
       "      <td>7.517310</td>\n",
       "      <td>20720.267708</td>\n",
       "    </tr>\n",
       "  </tbody>\n",
       "</table>\n",
       "</div>"
      ],
      "text/plain": [
       "        Solubility        MolWt      MolLogP        MolMR  HeavyAtomCount  \\\n",
       "count  9982.000000  9982.000000  9982.000000  9982.000000     9982.000000   \n",
       "mean     -2.889909   266.665946     1.979167    66.794594       17.374674   \n",
       "std       2.368154   184.179024     3.517738    46.523021       12.241536   \n",
       "min     -13.171900     9.012000   -40.873200     0.000000        1.000000   \n",
       "25%      -4.326325   162.276000     0.619750    40.602475       11.000000   \n",
       "50%      -2.618173   228.682000     1.949220    58.633400       15.000000   \n",
       "75%      -1.209735   320.436000     3.419030    81.938000       21.000000   \n",
       "max       2.137682  5299.456000    68.541140  1419.351700      388.000000   \n",
       "\n",
       "       NumHAcceptors   NumHDonors  NumHeteroatoms  NumRotatableBonds  \\\n",
       "count    9982.000000  9982.000000     9982.000000        9982.000000   \n",
       "mean        3.486776     1.108595        5.196955           4.073031   \n",
       "std         3.498203     1.488973        4.736275           5.646925   \n",
       "min         0.000000     0.000000        0.000000           0.000000   \n",
       "25%         2.000000     0.000000        3.000000           1.000000   \n",
       "50%         3.000000     1.000000        4.000000           3.000000   \n",
       "75%         4.000000     2.000000        6.000000           5.000000   \n",
       "max        86.000000    26.000000       89.000000         141.000000   \n",
       "\n",
       "       NumValenceElectrons  NumAromaticRings  NumSaturatedRings  \\\n",
       "count          9982.000000       9982.000000        9982.000000   \n",
       "mean             94.243438          1.068323           0.292627   \n",
       "std              64.748563          1.309427           0.879599   \n",
       "min               0.000000          0.000000           0.000000   \n",
       "25%              58.000000          0.000000           0.000000   \n",
       "50%              82.000000          1.000000           0.000000   \n",
       "75%             112.000000          2.000000           0.000000   \n",
       "max            2012.000000         35.000000          30.000000   \n",
       "\n",
       "       NumAliphaticRings    RingCount         TPSA    LabuteASA     BalabanJ  \\\n",
       "count        9982.000000  9982.000000  9982.000000  9982.000000  9982.000000   \n",
       "mean            0.447606     1.515929    62.458601   108.912586     2.392199   \n",
       "std             1.054667     1.644334    63.348307    76.462726     1.091123   \n",
       "min             0.000000     0.000000     0.000000     7.504228    -0.000004   \n",
       "25%             0.000000     0.000000    26.300000    66.623721     2.004357   \n",
       "50%             0.000000     1.000000    50.720000    93.299873     2.539539   \n",
       "75%             1.000000     2.000000    80.390000   129.118374     3.032456   \n",
       "max            30.000000    36.000000  1214.340000  2230.685124     7.517310   \n",
       "\n",
       "            BertzCT  \n",
       "count   9982.000000  \n",
       "mean     467.336782  \n",
       "std      546.631696  \n",
       "min        0.000000  \n",
       "25%      163.243343  \n",
       "50%      351.640433  \n",
       "75%      606.562848  \n",
       "max    20720.267708  "
      ]
     },
     "execution_count": 8,
     "metadata": {},
     "output_type": "execute_result"
    }
   ],
   "source": [
    "data.describe()"
   ]
  },
  {
   "cell_type": "markdown",
   "id": "136dbea7",
   "metadata": {},
   "source": [
    "To illustrate the distribution of chemicals, a histogram of the MolWt variable will be used. The Molar weight of a molecule is related to several other variables such as HeavyAtomCount, and NumValenceElectrons. Therefore, MolWt will be used as it is representative of several variables and will give a good understanding of the variability of molecules"
   ]
  },
  {
   "cell_type": "code",
   "execution_count": 9,
   "id": "817ecdec",
   "metadata": {},
   "outputs": [
    {
     "data": {
      "image/png": "[encoded data removed]",
      "text/plain": [
       "<Figure size 1200x1000 with 1 Axes>"
      ]
     },
     "metadata": {},
     "output_type": "display_data"
    }
   ],
   "source": [
    "#Creating a histogram to observe the distribution and variability of the data\n",
    "plt.figure(figsize = (12,10))\n",
    "hist = sns.histplot(data = data['MolWt'], bins = 50, stat = 'density')\n",
    "sns.kdeplot(data = data, x = 'MolWt', color = 'red', ax = hist)\n",
    "plt.ylabel('Density', fontsize = 15)\n",
    "plt.xlabel('MolWt', fontsize = 15)\n",
    "plt.title('Distribution and Variability of MolWt')\n",
    "plt.tight_layout()\n",
    "plt.show()"
   ]
  },
  {
   "cell_type": "markdown",
   "id": "13f45cd3",
   "metadata": {},
   "source": [
    "As seen in the above histogram, the majority of the molecules in the data have a molar weight between 0 - 1000 g/mol. This makes sense as only complex molecules, such as polymers, or molecules with multiple heavy atoms would have a weight above 1000 g/mol."
   ]
  },
  {
   "cell_type": "markdown",
   "id": "a4442118",
   "metadata": {},
   "source": [
    "A minimum value of 0 for MolMR, TPSA, BalabanJ, and BertzCT is fairly uncommon/may indicate a null value. To validate the data, observations with ~0 for the previously listed variables will be re-calculated utilizing rdkit"
   ]
  },
  {
   "cell_type": "code",
   "execution_count": 10,
   "id": "ef30a7ca",
   "metadata": {},
   "outputs": [],
   "source": [
    "#Importing necessary libraries to validate 0 values\n",
    "import rdkit\n",
    "from rdkit import Chem\n",
    "from rdkit.Chem import Crippen\n",
    "from rdkit.Chem import Descriptors\n",
    "from rdkit.Chem import GraphDescriptors"
   ]
  },
  {
   "cell_type": "code",
   "execution_count": 11,
   "id": "8855080e",
   "metadata": {},
   "outputs": [
    {
     "data": {
      "text/html": [
       "<div>\n",
       "<style scoped>\n",
       "    .dataframe tbody tr th:only-of-type {\n",
       "        vertical-align: middle;\n",
       "    }\n",
       "\n",
       "    .dataframe tbody tr th {\n",
       "        vertical-align: top;\n",
       "    }\n",
       "\n",
       "    .dataframe thead th {\n",
       "        text-align: right;\n",
       "    }\n",
       "</style>\n",
       "<table border=\"1\" class=\"dataframe\">\n",
       "  <thead>\n",
       "    <tr style=\"text-align: right;\">\n",
       "      <th></th>\n",
       "      <th>Name</th>\n",
       "      <th>SMILES</th>\n",
       "      <th>MolMR</th>\n",
       "      <th>TPSA</th>\n",
       "      <th>BalabanJ</th>\n",
       "      <th>BertzCT</th>\n",
       "    </tr>\n",
       "  </thead>\n",
       "  <tbody>\n",
       "    <tr>\n",
       "      <th>0</th>\n",
       "      <td>N,N,N-trimethyloctadecan-1-aminium bromide</td>\n",
       "      <td>[Br-].CCCCCCCCCCCCCCCCCC[N+](C)(C)C</td>\n",
       "      <td>102.4454</td>\n",
       "      <td>0.0</td>\n",
       "      <td>0.000000</td>\n",
       "      <td>210.377334</td>\n",
       "    </tr>\n",
       "    <tr>\n",
       "      <th>5</th>\n",
       "      <td>vinyltoluene</td>\n",
       "      <td>Cc1cccc(C=C)c1</td>\n",
       "      <td>41.2700</td>\n",
       "      <td>0.0</td>\n",
       "      <td>3.070761</td>\n",
       "      <td>211.033225</td>\n",
       "    </tr>\n",
       "    <tr>\n",
       "      <th>18</th>\n",
       "      <td>1-chloro-3-(trifluoromethyl)benzene</td>\n",
       "      <td>FC(F)(F)c1cccc(Cl)c1</td>\n",
       "      <td>36.4540</td>\n",
       "      <td>0.0</td>\n",
       "      <td>3.059902</td>\n",
       "      <td>254.107753</td>\n",
       "    </tr>\n",
       "    <tr>\n",
       "      <th>21</th>\n",
       "      <td>1-methyl-4-(propan-2-ylidene)cyclohex-1-ene</td>\n",
       "      <td>CC(C)=C1CCC(=CC1)C</td>\n",
       "      <td>45.9820</td>\n",
       "      <td>0.0</td>\n",
       "      <td>2.668730</td>\n",
       "      <td>178.214991</td>\n",
       "    </tr>\n",
       "    <tr>\n",
       "      <th>26</th>\n",
       "      <td>2,4-dichloro-1-(chloromethyl)benzene</td>\n",
       "      <td>ClCc1ccc(Cl)cc1Cl</td>\n",
       "      <td>46.0190</td>\n",
       "      <td>0.0</td>\n",
       "      <td>3.069983</td>\n",
       "      <td>232.292870</td>\n",
       "    </tr>\n",
       "  </tbody>\n",
       "</table>\n",
       "</div>"
      ],
      "text/plain": [
       "                                           Name  \\\n",
       "0    N,N,N-trimethyloctadecan-1-aminium bromide   \n",
       "5                                  vinyltoluene   \n",
       "18          1-chloro-3-(trifluoromethyl)benzene   \n",
       "21  1-methyl-4-(propan-2-ylidene)cyclohex-1-ene   \n",
       "26         2,4-dichloro-1-(chloromethyl)benzene   \n",
       "\n",
       "                                 SMILES     MolMR  TPSA  BalabanJ     BertzCT  \n",
       "0   [Br-].CCCCCCCCCCCCCCCCCC[N+](C)(C)C  102.4454   0.0  0.000000  210.377334  \n",
       "5                        Cc1cccc(C=C)c1   41.2700   0.0  3.070761  211.033225  \n",
       "18                 FC(F)(F)c1cccc(Cl)c1   36.4540   0.0  3.059902  254.107753  \n",
       "21                   CC(C)=C1CCC(=CC1)C   45.9820   0.0  2.668730  178.214991  \n",
       "26                    ClCc1ccc(Cl)cc1Cl   46.0190   0.0  3.069983  232.292870  "
      ]
     },
     "execution_count": 11,
     "metadata": {},
     "output_type": "execute_result"
    }
   ],
   "source": [
    "#Identifying observations with 0 in TPSA and BalabanJ\n",
    "chem.loc[chem['TPSA'] == 0, ['Name', 'SMILES', 'MolMR', 'TPSA', 'BalabanJ', 'BertzCT']].head()"
   ]
  },
  {
   "cell_type": "code",
   "execution_count": 12,
   "id": "36800250",
   "metadata": {},
   "outputs": [
    {
     "name": "stdout",
     "output_type": "stream",
     "text": [
      "TPSA:  0.0 BalabanJ:  0\n"
     ]
    }
   ],
   "source": [
    "#Verifying TPSA and BalabanJ values of 0 are not indicative of Nulls\n",
    "trimethylocta = Chem.MolFromSmiles(chem.iloc[0]['SMILES'])\n",
    "print('TPSA: ', Descriptors.TPSA(trimethylocta), 'BalabanJ: ', GraphDescriptors.BalabanJ(trimethylocta))"
   ]
  },
  {
   "cell_type": "code",
   "execution_count": 13,
   "id": "0803be94",
   "metadata": {},
   "outputs": [
    {
     "data": {
      "text/html": [
       "<div>\n",
       "<style scoped>\n",
       "    .dataframe tbody tr th:only-of-type {\n",
       "        vertical-align: middle;\n",
       "    }\n",
       "\n",
       "    .dataframe tbody tr th {\n",
       "        vertical-align: top;\n",
       "    }\n",
       "\n",
       "    .dataframe thead th {\n",
       "        text-align: right;\n",
       "    }\n",
       "</style>\n",
       "<table border=\"1\" class=\"dataframe\">\n",
       "  <thead>\n",
       "    <tr style=\"text-align: right;\">\n",
       "      <th></th>\n",
       "      <th>Name</th>\n",
       "      <th>SMILES</th>\n",
       "      <th>MolMR</th>\n",
       "      <th>TPSA</th>\n",
       "      <th>BalabanJ</th>\n",
       "      <th>BertzCT</th>\n",
       "    </tr>\n",
       "  </thead>\n",
       "  <tbody>\n",
       "    <tr>\n",
       "      <th>38</th>\n",
       "      <td>molybdenum</td>\n",
       "      <td>[Mo]</td>\n",
       "      <td>0.000</td>\n",
       "      <td>0.0</td>\n",
       "      <td>0.0</td>\n",
       "      <td>0.0</td>\n",
       "    </tr>\n",
       "    <tr>\n",
       "      <th>143</th>\n",
       "      <td>magnesium</td>\n",
       "      <td>[Mg++]</td>\n",
       "      <td>5.754</td>\n",
       "      <td>0.0</td>\n",
       "      <td>0.0</td>\n",
       "      <td>0.0</td>\n",
       "    </tr>\n",
       "    <tr>\n",
       "      <th>199</th>\n",
       "      <td>cadmium</td>\n",
       "      <td>[Cd++]</td>\n",
       "      <td>0.000</td>\n",
       "      <td>0.0</td>\n",
       "      <td>0.0</td>\n",
       "      <td>0.0</td>\n",
       "    </tr>\n",
       "    <tr>\n",
       "      <th>296</th>\n",
       "      <td>RHENIUM</td>\n",
       "      <td>[Re]</td>\n",
       "      <td>0.000</td>\n",
       "      <td>0.0</td>\n",
       "      <td>0.0</td>\n",
       "      <td>0.0</td>\n",
       "    </tr>\n",
       "    <tr>\n",
       "      <th>310</th>\n",
       "      <td>ethane</td>\n",
       "      <td>CC</td>\n",
       "      <td>11.348</td>\n",
       "      <td>0.0</td>\n",
       "      <td>1.0</td>\n",
       "      <td>0.0</td>\n",
       "    </tr>\n",
       "  </tbody>\n",
       "</table>\n",
       "</div>"
      ],
      "text/plain": [
       "           Name  SMILES   MolMR  TPSA  BalabanJ  BertzCT\n",
       "38   molybdenum    [Mo]   0.000   0.0       0.0      0.0\n",
       "143   magnesium  [Mg++]   5.754   0.0       0.0      0.0\n",
       "199     cadmium  [Cd++]   0.000   0.0       0.0      0.0\n",
       "296     RHENIUM    [Re]   0.000   0.0       0.0      0.0\n",
       "310      ethane      CC  11.348   0.0       1.0      0.0"
      ]
     },
     "execution_count": 13,
     "metadata": {},
     "output_type": "execute_result"
    }
   ],
   "source": [
    "#Identifying observations with 0 in MolMR and BertzCT\n",
    "chem.loc[chem['BertzCT'] == 0, ['Name', 'SMILES', 'MolMR', 'TPSA', 'BalabanJ', 'BertzCT']].head()"
   ]
  },
  {
   "cell_type": "code",
   "execution_count": 14,
   "id": "3038d633",
   "metadata": {},
   "outputs": [
    {
     "name": "stdout",
     "output_type": "stream",
     "text": [
      "MolMR:  0.0 BertzCT:  0\n"
     ]
    }
   ],
   "source": [
    "#Verifying MolMR and BertzCT values of 0 are not indicative of Nulls\n",
    "molyb = Chem.MolFromSmiles(chem.iloc[38]['SMILES'])\n",
    "print('MolMR: ', Crippen.MolMR(molyb), 'BertzCT: ', GraphDescriptors.BertzCT(molyb))"
   ]
  },
  {
   "cell_type": "markdown",
   "id": "28de8524",
   "metadata": {},
   "source": [
    "Based on the .info() data and validation that a 0 value is not Null for the 2D descriptors, there are no Nulls in the data (i.e. the data semi-cleaned by the authors of the academic papers where the data was sourced)."
   ]
  },
  {
   "cell_type": "markdown",
   "id": "b638e306",
   "metadata": {},
   "source": [
    "### Data Exploration/Feature Selection and Data Preparation/Cleaning"
   ]
  },
  {
   "cell_type": "code",
   "execution_count": 15,
   "id": "749eaf68",
   "metadata": {},
   "outputs": [],
   "source": [
    "from sklearn.model_selection import train_test_split\n",
    "\n",
    "\n",
    "#Splitting the data into training and test set before feature selection\n",
    "train_set, test_set = train_test_split(data, test_size = 0.2, random_state = 42)"
   ]
  },
  {
   "cell_type": "markdown",
   "id": "d15b6a01",
   "metadata": {},
   "source": [
    "The target variable will be removed from the train_set and test_set after data exploration, for ease of graphing and to help prevent data leakage."
   ]
  },
  {
   "cell_type": "code",
   "execution_count": 16,
   "id": "10b9ed9f",
   "metadata": {},
   "outputs": [
    {
     "data": {
      "image/png": "[encoded data removed]",
      "text/plain": [
       "<Figure size 1200x1000 with 17 Axes>"
      ]
     },
     "metadata": {},
     "output_type": "display_data"
    }
   ],
   "source": [
    "#Creating variable list to loop through for regression plots\n",
    "predictors = [['MolWt', 'MolLogP', 'MolMR', 'HeavyAtomCount'], ['NumHAcceptors', 'NumHDonors', 'NumHeteroatoms', 'NumRotatableBonds'],\n",
    "             ['NumValenceElectrons', 'NumAromaticRings', 'NumSaturatedRings', 'NumAliphaticRings'], ['RingCount', 'TPSA', 'LabuteASA',\n",
    "             'BalabanJ'], ['BertzCT']]\n",
    "\n",
    "#Separating independent and dependant variables\n",
    "X_graph = train_set.drop(['Solubility'], axis = 1)\n",
    "y_graph = train_set['Solubility']\n",
    "\n",
    "fig, axs = plt.subplots(ncols = 4, nrows = 5, figsize = (12, 10))\n",
    "b = 0\n",
    "for l in predictors:\n",
    "    a = 0\n",
    "    for i in l:\n",
    "        plot = sns.regplot(x = X_graph[i], y = y_graph, ax = axs[b,a], scatter_kws = {'s':3}, line_kws = {'color':'red'})\n",
    "        plot.set(ylabel = None)\n",
    "        plt.tight_layout()\n",
    "        a += 1\n",
    "    b += 1\n",
    "\n",
    "fig.supylabel('Solubility')\n",
    "fig.suptitle('Correlation between Solubility and Predictors', fontsize = 20)\n",
    "\n",
    "fig.delaxes(axs[4][1])\n",
    "fig.delaxes(axs[4][2])\n",
    "fig.delaxes(axs[4][3])\n",
    "\n",
    "plt.tight_layout()\n",
    "plt.show()"
   ]
  },
  {
   "cell_type": "markdown",
   "id": "112da7fb",
   "metadata": {},
   "source": [
    "Based on the regression plots above, it appears that many predictors lack significant correlation with the target variable solubility (ex. BalabanJ and NumHAcceptors). Numeric correlation values will be obtained below and utilized in the feature selection process."
   ]
  },
  {
   "cell_type": "code",
   "execution_count": 17,
   "id": "bd7ff5c7",
   "metadata": {
    "scrolled": true
   },
   "outputs": [
    {
     "data": {
      "text/plain": [
       "Solubility             1.000000\n",
       "NumHDonors             0.192767\n",
       "TPSA                   0.106968\n",
       "BalabanJ               0.040893\n",
       "NumHAcceptors          0.037527\n",
       "NumHeteroatoms        -0.041166\n",
       "NumSaturatedRings     -0.041514\n",
       "NumAliphaticRings     -0.091912\n",
       "NumRotatableBonds     -0.222551\n",
       "BertzCT               -0.287713\n",
       "RingCount             -0.335921\n",
       "NumAromaticRings      -0.343989\n",
       "NumValenceElectrons   -0.346380\n",
       "LabuteASA             -0.349797\n",
       "HeavyAtomCount        -0.352441\n",
       "MolWt                 -0.367409\n",
       "MolMR                 -0.421327\n",
       "MolLogP               -0.600633\n",
       "Name: Solubility, dtype: float64"
      ]
     },
     "execution_count": 17,
     "metadata": {},
     "output_type": "execute_result"
    }
   ],
   "source": [
    "train_set.corr()['Solubility'].sort_values(ascending = False)"
   ]
  },
  {
   "cell_type": "markdown",
   "id": "d7b8899c",
   "metadata": {},
   "source": [
    "Based on the correlation values above, several features appear to be poor predictors of solubility. The poorest predictors of solubility -- based on correlation -- are TPSA, BalabanJ, NumHAcceptors, NumSaturatedRings, and NumAliphaticRings. A correlation threshold of 0.15 will be used to determine which features to drop. The low threshold will prevent too many features from being dropped, which may lead to underfitting, while still dropping some features thus lowering the computational cost of the final model."
   ]
  },
  {
   "cell_type": "code",
   "execution_count": 18,
   "id": "7f034e4c",
   "metadata": {},
   "outputs": [],
   "source": [
    "#Function to drop all features below the correlation threshold\n",
    "def corr_drop(df, corr_threshold):\n",
    "    corr_value = abs(df.corr()['Solubility'])\n",
    "    corr_list = corr_value[corr_value <= corr_threshold].index.tolist()\n",
    "    df = df.drop(columns = corr_list)\n",
    "    return df, corr_list"
   ]
  },
  {
   "cell_type": "code",
   "execution_count": 19,
   "id": "8201a6df",
   "metadata": {},
   "outputs": [],
   "source": [
    "#Removing features below correlation threshold of 0.15\n",
    "train_set_reduced, dropped_features = corr_drop(train_set, 0.15)\n",
    "test_set_reduced = test_set.drop(dropped_features, axis = 1)"
   ]
  },
  {
   "cell_type": "code",
   "execution_count": 20,
   "id": "47f7727b",
   "metadata": {
    "scrolled": false
   },
   "outputs": [
    {
     "data": {
      "text/plain": [
       "<Axes: >"
      ]
     },
     "execution_count": 20,
     "metadata": {},
     "output_type": "execute_result"
    },
    {
     "data": {
      "image/png": "[encoded data removed]",
      "text/plain": [
       "<Figure size 1200x1000 with 2 Axes>"
      ]
     },
     "metadata": {},
     "output_type": "display_data"
    }
   ],
   "source": [
    "data_corr = train_set_reduced.corr()\n",
    "\n",
    "fig, ax = plt.subplots(figsize = (12,10))\n",
    "sns.heatmap(data_corr, linewidth = 0.4, vmin = -1.0)"
   ]
  },
  {
   "cell_type": "markdown",
   "id": "27c541fe",
   "metadata": {},
   "source": [
    "Based on the heatmap above, several features appear to have a high correlation with each other. Thus, multicollinearity may pose an issue for the machine learning model. To further investigate the multicollinearity of the independent variables, the variance inflation factor will be used"
   ]
  },
  {
   "cell_type": "code",
   "execution_count": 21,
   "id": "1e4ee892",
   "metadata": {},
   "outputs": [],
   "source": [
    "from statsmodels.stats.outliers_influence import variance_inflation_factor\n",
    "\n",
    "train_set_reduced1 = train_set_reduced.drop(['Solubility'], axis = 1)\n",
    "test_set_reduced1 = test_set_reduced.drop(['Solubility'], axis = 1)\n",
    "\n",
    "vif = pd.DataFrame(data = train_set_reduced1.columns, columns = ['variable'])\n",
    "vif['vif'] = [variance_inflation_factor(train_set_reduced1.values, i) for i in range(len(train_set_reduced1.columns))]"
   ]
  },
  {
   "cell_type": "code",
   "execution_count": 22,
   "id": "8364b139",
   "metadata": {},
   "outputs": [
    {
     "data": {
      "text/html": [
       "<div>\n",
       "<style scoped>\n",
       "    .dataframe tbody tr th:only-of-type {\n",
       "        vertical-align: middle;\n",
       "    }\n",
       "\n",
       "    .dataframe tbody tr th {\n",
       "        vertical-align: top;\n",
       "    }\n",
       "\n",
       "    .dataframe thead th {\n",
       "        text-align: right;\n",
       "    }\n",
       "</style>\n",
       "<table border=\"1\" class=\"dataframe\">\n",
       "  <thead>\n",
       "    <tr style=\"text-align: right;\">\n",
       "      <th></th>\n",
       "      <th>variable</th>\n",
       "      <th>vif</th>\n",
       "      <th>vif_scaled</th>\n",
       "    </tr>\n",
       "  </thead>\n",
       "  <tbody>\n",
       "    <tr>\n",
       "      <th>0</th>\n",
       "      <td>MolWt</td>\n",
       "      <td>75.715935</td>\n",
       "      <td>24.791090</td>\n",
       "    </tr>\n",
       "    <tr>\n",
       "      <th>1</th>\n",
       "      <td>MolLogP</td>\n",
       "      <td>6.732854</td>\n",
       "      <td>5.165847</td>\n",
       "    </tr>\n",
       "    <tr>\n",
       "      <th>2</th>\n",
       "      <td>MolMR</td>\n",
       "      <td>241.844640</td>\n",
       "      <td>80.829657</td>\n",
       "    </tr>\n",
       "    <tr>\n",
       "      <th>3</th>\n",
       "      <td>HeavyAtomCount</td>\n",
       "      <td>2194.699782</td>\n",
       "      <td>761.250036</td>\n",
       "    </tr>\n",
       "    <tr>\n",
       "      <th>4</th>\n",
       "      <td>NumHDonors</td>\n",
       "      <td>2.612081</td>\n",
       "      <td>1.681954</td>\n",
       "    </tr>\n",
       "    <tr>\n",
       "      <th>5</th>\n",
       "      <td>NumRotatableBonds</td>\n",
       "      <td>8.106456</td>\n",
       "      <td>7.297107</td>\n",
       "    </tr>\n",
       "    <tr>\n",
       "      <th>6</th>\n",
       "      <td>NumValenceElectrons</td>\n",
       "      <td>1480.577582</td>\n",
       "      <td>481.387317</td>\n",
       "    </tr>\n",
       "    <tr>\n",
       "      <th>7</th>\n",
       "      <td>NumAromaticRings</td>\n",
       "      <td>9.975784</td>\n",
       "      <td>7.007300</td>\n",
       "    </tr>\n",
       "    <tr>\n",
       "      <th>8</th>\n",
       "      <td>RingCount</td>\n",
       "      <td>11.419320</td>\n",
       "      <td>6.442335</td>\n",
       "    </tr>\n",
       "    <tr>\n",
       "      <th>9</th>\n",
       "      <td>LabuteASA</td>\n",
       "      <td>307.652852</td>\n",
       "      <td>102.681599</td>\n",
       "    </tr>\n",
       "    <tr>\n",
       "      <th>10</th>\n",
       "      <td>BertzCT</td>\n",
       "      <td>25.258420</td>\n",
       "      <td>28.623015</td>\n",
       "    </tr>\n",
       "  </tbody>\n",
       "</table>\n",
       "</div>"
      ],
      "text/plain": [
       "               variable          vif  vif_scaled\n",
       "0                 MolWt    75.715935   24.791090\n",
       "1               MolLogP     6.732854    5.165847\n",
       "2                 MolMR   241.844640   80.829657\n",
       "3        HeavyAtomCount  2194.699782  761.250036\n",
       "4            NumHDonors     2.612081    1.681954\n",
       "5     NumRotatableBonds     8.106456    7.297107\n",
       "6   NumValenceElectrons  1480.577582  481.387317\n",
       "7      NumAromaticRings     9.975784    7.007300\n",
       "8             RingCount    11.419320    6.442335\n",
       "9             LabuteASA   307.652852  102.681599\n",
       "10              BertzCT    25.258420   28.623015"
      ]
     },
     "execution_count": 22,
     "metadata": {},
     "output_type": "execute_result"
    }
   ],
   "source": [
    "#To further reduce the variance inflation factor, the data will be scaled using a standard scaler\n",
    "from sklearn.preprocessing import StandardScaler\n",
    "\n",
    "#Removing target variable before scaling\n",
    "y_train = train_set_reduced['Solubility']\n",
    "y_test = test_set_reduced['Solubility']\n",
    "\n",
    "scale = StandardScaler()\n",
    "\n",
    "scale.fit(train_set_reduced1)\n",
    "train_set_scaled = train_set_reduced1.copy()\n",
    "train_set_scaled.values[:] = scale.fit_transform(train_set_reduced1)\n",
    "\n",
    "vif['vif_scaled'] = [variance_inflation_factor(train_set_scaled.values, i) for i in range(len(train_set_scaled.columns))]\n",
    "vif"
   ]
  },
  {
   "cell_type": "code",
   "execution_count": 23,
   "id": "0fbd2dd1",
   "metadata": {},
   "outputs": [],
   "source": [
    "#Based on the vif, HeavyAtomCount and NumValenceElectrons will be dropped to try and prevent multicollinearity/redundancy\n",
    "\n",
    "train_set_scaled = train_set_scaled.drop(['HeavyAtomCount', 'NumValenceElectrons'], axis = 1)\n",
    "\n",
    "#Scaling the test data and dropping the selected features\n",
    "test_set_scaled = test_set_reduced1.copy()\n",
    "test_set_scaled.values[:] = scale.transform(test_set_reduced1)\n",
    "test_set_scaled = test_set_scaled.drop(['HeavyAtomCount', 'NumValenceElectrons'], axis = 1)"
   ]
  },
  {
   "cell_type": "markdown",
   "id": "dfe0809d",
   "metadata": {},
   "source": [
    "### Model Selection/Training"
   ]
  },
  {
   "cell_type": "code",
   "execution_count": 24,
   "id": "051ac76a",
   "metadata": {},
   "outputs": [],
   "source": [
    "#Separating target variable in training and test set\n",
    "X_train = train_set_scaled\n",
    "X_test = test_set_scaled\n"
   ]
  },
  {
   "cell_type": "code",
   "execution_count": 25,
   "id": "ce754663",
   "metadata": {},
   "outputs": [
    {
     "name": "stdout",
     "output_type": "stream",
     "text": [
      "rfr_rmse:  1.2346294843076018 rfr_R2:  -0.7302867613509137 gbr_rmse:  1.2614307362798705 gbr_R2:  -0.7184036074166672\n"
     ]
    }
   ],
   "source": [
    "from sklearn.ensemble import RandomForestRegressor\n",
    "from sklearn.ensemble import GradientBoostingRegressor\n",
    "from sklearn.model_selection import cross_val_score\n",
    "\n",
    "#Evaluating the default RandomForestRegressor model\n",
    "rfr = RandomForestRegressor(random_state = 42)\n",
    "rfr.fit(X_train, y_train)\n",
    "rfr_rmse = -cross_val_score(rfr, X_train, y_train, cv = 3, scoring = 'neg_root_mean_squared_error').mean()\n",
    "rfr_r2 = -cross_val_score(rfr, X_train, y_train, cv = 3, scoring = 'r2').mean()\n",
    "\n",
    "#Evaluating the default GradientBoostingRegressor\n",
    "gbr = GradientBoostingRegressor(random_state = 42)\n",
    "gbr.fit(X_train, y_train)\n",
    "gbr_rmse = -cross_val_score(gbr, X_train, y_train, cv = 3, scoring = 'neg_root_mean_squared_error').mean()\n",
    "gbr_r2 = -cross_val_score(gbr, X_train, y_train, cv = 3, scoring = 'r2').mean()\n",
    "\n",
    "\n",
    "print('rfr_rmse: ', rfr_rmse, 'rfr_R2: ', rfr_r2, 'gbr_rmse: ', gbr_rmse, 'gbr_R2: ', gbr_r2)"
   ]
  },
  {
   "cell_type": "markdown",
   "id": "14aede68",
   "metadata": {},
   "source": [
    "Both the default RandomForest and GradientBoosting models had a similar rmse score, and R2, as well as trained fairly quickly. Therefore, a simple grid search will be conducted to try and further narrow down the best model to pursue."
   ]
  },
  {
   "cell_type": "code",
   "execution_count": 26,
   "id": "7812f5fe",
   "metadata": {},
   "outputs": [
    {
     "name": "stdout",
     "output_type": "stream",
     "text": [
      "Fitting 3 folds for each of 36 candidates, totalling 108 fits\n",
      "best parameters:  {'learning_rate': 0.1, 'max_depth': 5, 'n_estimators': 100}\n"
     ]
    }
   ],
   "source": [
    "from sklearn.model_selection import GridSearchCV\n",
    "#Conducting grid search\n",
    "param_grid = {'max_depth': [1, 3, 5],\n",
    "             'n_estimators': [50, 100, 200],\n",
    "             'learning_rate': [0.001, 0.01, 0.1, 0.25]}\n",
    "\n",
    "grid_search_gbr = GridSearchCV(GradientBoostingRegressor(random_state = 42),\n",
    "                          param_grid, verbose = 1, cv = 3)\n",
    "grid_search_gbr.fit(X_train, y_train)\n",
    "optimal_gbr = GradientBoostingRegressor(**grid_search_gbr.best_params_, random_state = 42)\n",
    "print('best parameters: ', grid_search_gbr.best_params_)"
   ]
  },
  {
   "cell_type": "code",
   "execution_count": 27,
   "id": "9d4880a0",
   "metadata": {},
   "outputs": [
    {
     "name": "stdout",
     "output_type": "stream",
     "text": [
      "best parameters:  {'learning_rate': 0.1, 'max_depth': 5, 'n_estimators': 100}\n"
     ]
    }
   ],
   "source": [
    "print('best parameters: ', grid_search_gbr.best_params_)"
   ]
  },
  {
   "cell_type": "code",
   "execution_count": 28,
   "id": "dc9e5293",
   "metadata": {},
   "outputs": [],
   "source": [
    "#Obtaining RMSE score for evaluation\n",
    "optimal_gbr.fit(X_train, y_train),\n",
    "gbr_opt_rmse = -cross_val_score(optimal_gbr, X_train, y_train, cv = 3, scoring = 'neg_root_mean_squared_error').mean()"
   ]
  },
  {
   "cell_type": "code",
   "execution_count": 29,
   "id": "e319aa3b",
   "metadata": {},
   "outputs": [
    {
     "name": "stdout",
     "output_type": "stream",
     "text": [
      "Fitting 3 folds for each of 27 candidates, totalling 81 fits\n",
      "best parameters:  {'max_depth': 16, 'min_samples_split': 4, 'n_estimators': 200}\n"
     ]
    }
   ],
   "source": [
    "param_grid = {'max_depth': [1, 4, 16],\n",
    "             'n_estimators': [50, 100, 200],\n",
    "             'min_samples_split': [2, 4, 12]}\n",
    "\n",
    "grid_search_rfr = GridSearchCV(RandomForestRegressor(random_state = 42),\n",
    "                              param_grid, verbose = 1, cv = 3)\n",
    "\n",
    "grid_search_rfr.fit(X_train, y_train)\n",
    "optimal_rfr = RandomForestRegressor(**grid_search_rfr.best_params_, random_state = 42)\n",
    "print('best parameters: ', grid_search_rfr.best_params_)"
   ]
  },
  {
   "cell_type": "code",
   "execution_count": 30,
   "id": "7e687876",
   "metadata": {},
   "outputs": [],
   "source": [
    "optimal_rfr.fit(X_train, y_train),\n",
    "rfr_opt_rmse = -cross_val_score(optimal_rfr, X_train, y_train, cv = 3, scoring = 'neg_root_mean_squared_error').mean()"
   ]
  },
  {
   "cell_type": "code",
   "execution_count": 31,
   "id": "f523df51",
   "metadata": {},
   "outputs": [
    {
     "name": "stdout",
     "output_type": "stream",
     "text": [
      "opt_rfr_rmse:  1.231484863926043 opt_gbr_rmse:  1.2478321418176497\n"
     ]
    }
   ],
   "source": [
    "print('opt_rfr_rmse: ', rfr_opt_rmse, 'opt_gbr_rmse: ', gbr_opt_rmse)"
   ]
  },
  {
   "cell_type": "markdown",
   "id": "e378da50",
   "metadata": {},
   "source": [
    "As like before, the rmse of the RandomForestRegressor indicated better performance for the data. Therefore, further hyperparameter searches will be conducted on the RandomForestRegressor model."
   ]
  },
  {
   "cell_type": "code",
   "execution_count": 32,
   "id": "a03e09da",
   "metadata": {},
   "outputs": [
    {
     "name": "stdout",
     "output_type": "stream",
     "text": [
      "best parameters:  {'max_depth': 16, 'min_samples_split': 4, 'n_estimators': 200}\n"
     ]
    }
   ],
   "source": [
    "print('best parameters: ', grid_search_rfr.best_params_)"
   ]
  },
  {
   "cell_type": "code",
   "execution_count": 33,
   "id": "89524ad6",
   "metadata": {},
   "outputs": [
    {
     "name": "stdout",
     "output_type": "stream",
     "text": [
      "Fitting 3 folds for each of 20 candidates, totalling 60 fits\n",
      "best parameters:  {'n_estimators': 1000, 'min_samples_split': 3, 'max_depth': 32}\n"
     ]
    }
   ],
   "source": [
    "from sklearn.model_selection import RandomizedSearchCV\n",
    "\n",
    "#Due to the large quanity of data, RandomizedSearchCV is used\n",
    "param_grid = {'max_depth': [12, 16, 20, 26, 32],\n",
    "             'n_estimators': [175, 200, 400, 800, 1000],\n",
    "             'min_samples_split': [2, 3]}\n",
    "\n",
    "grid_search_rfr2 = RandomizedSearchCV(RandomForestRegressor(random_state = 42),\n",
    "                                     param_grid, verbose = 1, cv = 3, n_iter = 20)\n",
    "\n",
    "grid_search_rfr2.fit(X_train, y_train)\n",
    "optimal_rfr2 = RandomForestRegressor(**grid_search_rfr2.best_params_, random_state = 42)\n",
    "print('best parameters: ', grid_search_rfr2.best_params_)"
   ]
  },
  {
   "cell_type": "code",
   "execution_count": 34,
   "id": "ed0e3f91",
   "metadata": {},
   "outputs": [
    {
     "name": "stdout",
     "output_type": "stream",
     "text": [
      "Fitting 3 folds for each of 20 candidates, totalling 60 fits\n",
      "best parameters:  {'n_estimators': 1500, 'min_samples_split': 2, 'max_depth': 40}\n"
     ]
    }
   ],
   "source": [
    "param_grid = {'max_depth': [28, 32, 36, 40, 44],\n",
    "             'n_estimators': [900, 1000, 1250, 1500],\n",
    "             'min_samples_split': [2, 3]}\n",
    "\n",
    "grid_search_rfr3 = RandomizedSearchCV(RandomForestRegressor(random_state = 42),\n",
    "                                     param_grid, verbose = 1, cv = 3, n_iter = 20)\n",
    "\n",
    "grid_search_rfr3.fit(X_train, y_train)\n",
    "optimal_rfr3 = RandomForestRegressor(**grid_search_rfr3.best_params_, random_state = 42)\n",
    "print('best parameters: ', grid_search_rfr3.best_params_)"
   ]
  },
  {
   "cell_type": "code",
   "execution_count": 35,
   "id": "cd764993",
   "metadata": {
    "scrolled": true
   },
   "outputs": [
    {
     "name": "stdout",
     "output_type": "stream",
     "text": [
      "Fitting 3 folds for each of 15 candidates, totalling 45 fits\n",
      "best parameters:  {'n_estimators': 2000, 'min_samples_split': 2, 'max_depth': 42}\n"
     ]
    }
   ],
   "source": [
    "\n",
    "param_grid = {'max_depth': [38, 40, 42],\n",
    "             'n_estimators': [1400, 1500, 1750, 2000],\n",
    "             'min_samples_split': [2, 3]}\n",
    "\n",
    "grid_search_rfr4 = RandomizedSearchCV(RandomForestRegressor(random_state = 42),\n",
    "                                     param_grid, verbose = 1, cv = 3, n_iter = 15)\n",
    "\n",
    "grid_search_rfr4.fit(X_train, y_train)\n",
    "optimal_rfr4 = RandomForestRegressor(**grid_search_rfr4.best_params_, random_state = 42)\n",
    "print('best parameters: ', grid_search_rfr4.best_params_)"
   ]
  },
  {
   "cell_type": "markdown",
   "id": "b06f9786",
   "metadata": {},
   "source": [
    "The n_estimators could be tuned further, however, anymore would most likely see diminishing returns not worth the training time."
   ]
  },
  {
   "cell_type": "code",
   "execution_count": 36,
   "id": "d3a788c3",
   "metadata": {},
   "outputs": [
    {
     "name": "stdout",
     "output_type": "stream",
     "text": [
      "rfr4_rmse:  1.2292263534457697\n"
     ]
    }
   ],
   "source": [
    "optimal_rfr4.fit(X_train, y_train)\n",
    "rfr4_opt_rmse = -cross_val_score(optimal_rfr4, X_train, y_train, cv = 3, scoring = 'neg_root_mean_squared_error').mean()\n",
    "print('rfr4_rmse: ', rfr4_opt_rmse)"
   ]
  },
  {
   "cell_type": "markdown",
   "id": "e7d21420",
   "metadata": {},
   "source": [
    "The RMSE score has improved slightly with hyperparameter optimization. However, a neural network will be tried to see if one can obtain better results"
   ]
  },
  {
   "cell_type": "code",
   "execution_count": 37,
   "id": "36cde1e0",
   "metadata": {},
   "outputs": [],
   "source": [
    "#%pip install keras-tuner\n",
    "import tensorflow as tf\n",
    "from tensorflow import keras\n",
    "import keras_tuner\n",
    "\n",
    "#Creadting function that makes a neural network model for use in hyperparameter optimization\n",
    "def create_model(hp):\n",
    "    model = keras.Sequential()\n",
    "    model.add(keras.Input(shape = (9,)))\n",
    "    \n",
    "    #Hyperparameters to be searched\n",
    "    act = hp.Choice('activation', ['relu', 'elu'])\n",
    "    layer1 = hp.Int('layer1', min_value = 1, max_value = 200, step = 20)\n",
    "    layer2 = hp.Int('layer2', min_value = 1, max_value = 200, step = 20)\n",
    "    layer3 = hp.Int('layer3', min_value = 1, max_value = 200, step = 20)\n",
    "    \n",
    "    #Adding layers to the model\n",
    "    model.add(keras.layers.Dense(units = layer1, activation = act))\n",
    "    model.add(keras.layers.Dense(units = layer2, activation = act))\n",
    "    model.add(keras.layers.Dense(units = layer3, activation = act))\n",
    "    \n",
    "    #Additional hyperparameters to be searched\n",
    "    lr = hp.Choice('learning', values = [1e-1, 1e-2, 1e-3, 1e-4])\n",
    "    \n",
    "    model.compile(loss = keras.losses.MeanSquaredError,\n",
    "                 optimizer = keras.optimizers.Adam(learning_rate = lr),\n",
    "                 metrics = ['root_mean_squared_error'])\n",
    "    return model"
   ]
  },
  {
   "cell_type": "code",
   "execution_count": 38,
   "id": "8491be57",
   "metadata": {},
   "outputs": [
    {
     "name": "stdout",
     "output_type": "stream",
     "text": [
      "Reloading Tuner from directory\\tuning\\tuner0.json\n"
     ]
    }
   ],
   "source": [
    "#Creating tuner instance to search hyperparameters\n",
    "tuner = keras_tuner.Hyperband(create_model,\n",
    "                              max_epochs = 100,\n",
    "                              objective = 'val_loss',\n",
    "                              factor = 4,\n",
    "                              directory = 'directory',\n",
    "                              project_name = 'tuning',\n",
    "                              max_consecutive_failed_trials = 10\n",
    "                             )"
   ]
  },
  {
   "cell_type": "code",
   "execution_count": 39,
   "id": "d3b3c6cc",
   "metadata": {},
   "outputs": [],
   "source": [
    "#Early stopping instance\n",
    "early_stopping = keras.callbacks.EarlyStopping(patience = 10, monitor = 'val_loss')"
   ]
  },
  {
   "cell_type": "code",
   "execution_count": 40,
   "id": "84bde1fe",
   "metadata": {},
   "outputs": [],
   "source": [
    "#Searching for best hyperparameters\n",
    "tuner.search(X_train, y_train, epochs = 40, validation_split = 0.2, callbacks = [early_stopping])"
   ]
  },
  {
   "cell_type": "code",
   "execution_count": 41,
   "id": "daa9fca6",
   "metadata": {},
   "outputs": [],
   "source": [
    "#Obtaining best hyperparameters from search\n",
    "best_model = tuner.get_best_hyperparameters(num_trials = 1)[0]"
   ]
  },
  {
   "cell_type": "code",
   "execution_count": 42,
   "id": "b7a5f482",
   "metadata": {},
   "outputs": [
    {
     "name": "stdout",
     "output_type": "stream",
     "text": [
      "Epoch 1/100\n",
      "\u001b[1m250/250\u001b[0m \u001b[32m━━━━━━━━━━━━━━━━━━━━\u001b[0m\u001b[37m\u001b[0m \u001b[1m4s\u001b[0m 1ms/step - loss: 10.0750 - root_mean_squared_error: 3.1698  \n",
      "Epoch 2/100\n",
      "\u001b[1m250/250\u001b[0m \u001b[32m━━━━━━━━━━━━━━━━━━━━\u001b[0m\u001b[37m\u001b[0m \u001b[1m0s\u001b[0m 785us/step - loss: 9.0505 - root_mean_squared_error: 3.0076\n",
      "Epoch 3/100\n",
      "\u001b[1m250/250\u001b[0m \u001b[32m━━━━━━━━━━━━━━━━━━━━\u001b[0m\u001b[37m\u001b[0m \u001b[1m0s\u001b[0m 740us/step - loss: 9.1932 - root_mean_squared_error: 3.0318\n",
      "Epoch 4/100\n",
      "\u001b[1m250/250\u001b[0m \u001b[32m━━━━━━━━━━━━━━━━━━━━\u001b[0m\u001b[37m\u001b[0m \u001b[1m0s\u001b[0m 772us/step - loss: 9.1121 - root_mean_squared_error: 3.0185\n",
      "Epoch 5/100\n",
      "\u001b[1m250/250\u001b[0m \u001b[32m━━━━━━━━━━━━━━━━━━━━\u001b[0m\u001b[37m\u001b[0m \u001b[1m0s\u001b[0m 736us/step - loss: 9.0663 - root_mean_squared_error: 3.0106\n",
      "Epoch 6/100\n",
      "\u001b[1m250/250\u001b[0m \u001b[32m━━━━━━━━━━━━━━━━━━━━\u001b[0m\u001b[37m\u001b[0m \u001b[1m0s\u001b[0m 753us/step - loss: 9.3187 - root_mean_squared_error: 3.0522\n",
      "Epoch 7/100\n",
      "\u001b[1m250/250\u001b[0m \u001b[32m━━━━━━━━━━━━━━━━━━━━\u001b[0m\u001b[37m\u001b[0m \u001b[1m0s\u001b[0m 727us/step - loss: 9.3378 - root_mean_squared_error: 3.0554\n",
      "Epoch 8/100\n",
      "\u001b[1m250/250\u001b[0m \u001b[32m━━━━━━━━━━━━━━━━━━━━\u001b[0m\u001b[37m\u001b[0m \u001b[1m0s\u001b[0m 782us/step - loss: 9.2827 - root_mean_squared_error: 3.0463\n",
      "Epoch 9/100\n",
      "\u001b[1m250/250\u001b[0m \u001b[32m━━━━━━━━━━━━━━━━━━━━\u001b[0m\u001b[37m\u001b[0m \u001b[1m0s\u001b[0m 728us/step - loss: 9.0601 - root_mean_squared_error: 3.0098\n",
      "Epoch 10/100\n",
      "\u001b[1m250/250\u001b[0m \u001b[32m━━━━━━━━━━━━━━━━━━━━\u001b[0m\u001b[37m\u001b[0m \u001b[1m0s\u001b[0m 740us/step - loss: 9.1105 - root_mean_squared_error: 3.0179\n",
      "Epoch 11/100\n",
      "\u001b[1m250/250\u001b[0m \u001b[32m━━━━━━━━━━━━━━━━━━━━\u001b[0m\u001b[37m\u001b[0m \u001b[1m0s\u001b[0m 765us/step - loss: 9.4584 - root_mean_squared_error: 3.0749\n",
      "Epoch 12/100\n",
      "\u001b[1m250/250\u001b[0m \u001b[32m━━━━━━━━━━━━━━━━━━━━\u001b[0m\u001b[37m\u001b[0m \u001b[1m0s\u001b[0m 772us/step - loss: 9.0290 - root_mean_squared_error: 3.0042\n",
      "Epoch 13/100\n",
      "\u001b[1m250/250\u001b[0m \u001b[32m━━━━━━━━━━━━━━━━━━━━\u001b[0m\u001b[37m\u001b[0m \u001b[1m0s\u001b[0m 728us/step - loss: 9.3660 - root_mean_squared_error: 3.0602\n",
      "Epoch 14/100\n",
      "\u001b[1m250/250\u001b[0m \u001b[32m━━━━━━━━━━━━━━━━━━━━\u001b[0m\u001b[37m\u001b[0m \u001b[1m0s\u001b[0m 733us/step - loss: 9.2315 - root_mean_squared_error: 3.0379\n",
      "Epoch 15/100\n",
      "\u001b[1m250/250\u001b[0m \u001b[32m━━━━━━━━━━━━━━━━━━━━\u001b[0m\u001b[37m\u001b[0m \u001b[1m0s\u001b[0m 763us/step - loss: 9.3917 - root_mean_squared_error: 3.0644\n",
      "Epoch 16/100\n",
      "\u001b[1m250/250\u001b[0m \u001b[32m━━━━━━━━━━━━━━━━━━━━\u001b[0m\u001b[37m\u001b[0m \u001b[1m0s\u001b[0m 723us/step - loss: 9.3104 - root_mean_squared_error: 3.0511\n",
      "Epoch 17/100\n",
      "\u001b[1m250/250\u001b[0m \u001b[32m━━━━━━━━━━━━━━━━━━━━\u001b[0m\u001b[37m\u001b[0m \u001b[1m0s\u001b[0m 742us/step - loss: 9.2599 - root_mean_squared_error: 3.0423\n",
      "Epoch 18/100\n",
      "\u001b[1m250/250\u001b[0m \u001b[32m━━━━━━━━━━━━━━━━━━━━\u001b[0m\u001b[37m\u001b[0m \u001b[1m0s\u001b[0m 749us/step - loss: 9.3001 - root_mean_squared_error: 3.0488\n",
      "Epoch 19/100\n",
      "\u001b[1m250/250\u001b[0m \u001b[32m━━━━━━━━━━━━━━━━━━━━\u001b[0m\u001b[37m\u001b[0m \u001b[1m0s\u001b[0m 771us/step - loss: 8.9055 - root_mean_squared_error: 2.9836\n",
      "Epoch 20/100\n",
      "\u001b[1m250/250\u001b[0m \u001b[32m━━━━━━━━━━━━━━━━━━━━\u001b[0m\u001b[37m\u001b[0m \u001b[1m0s\u001b[0m 749us/step - loss: 9.3569 - root_mean_squared_error: 3.0581\n",
      "Epoch 21/100\n",
      "\u001b[1m250/250\u001b[0m \u001b[32m━━━━━━━━━━━━━━━━━━━━\u001b[0m\u001b[37m\u001b[0m \u001b[1m0s\u001b[0m 723us/step - loss: 9.4393 - root_mean_squared_error: 3.0707\n",
      "Epoch 22/100\n",
      "\u001b[1m250/250\u001b[0m \u001b[32m━━━━━━━━━━━━━━━━━━━━\u001b[0m\u001b[37m\u001b[0m \u001b[1m0s\u001b[0m 735us/step - loss: 9.2613 - root_mean_squared_error: 3.0423\n",
      "Epoch 23/100\n",
      "\u001b[1m250/250\u001b[0m \u001b[32m━━━━━━━━━━━━━━━━━━━━\u001b[0m\u001b[37m\u001b[0m \u001b[1m0s\u001b[0m 730us/step - loss: 8.9575 - root_mean_squared_error: 2.9925\n",
      "Epoch 24/100\n",
      "\u001b[1m250/250\u001b[0m \u001b[32m━━━━━━━━━━━━━━━━━━━━\u001b[0m\u001b[37m\u001b[0m \u001b[1m0s\u001b[0m 765us/step - loss: 9.2446 - root_mean_squared_error: 3.0404\n",
      "Epoch 25/100\n",
      "\u001b[1m250/250\u001b[0m \u001b[32m━━━━━━━━━━━━━━━━━━━━\u001b[0m\u001b[37m\u001b[0m \u001b[1m0s\u001b[0m 788us/step - loss: 9.3515 - root_mean_squared_error: 3.0576\n",
      "Epoch 26/100\n",
      "\u001b[1m250/250\u001b[0m \u001b[32m━━━━━━━━━━━━━━━━━━━━\u001b[0m\u001b[37m\u001b[0m \u001b[1m0s\u001b[0m 738us/step - loss: 9.1321 - root_mean_squared_error: 3.0217\n",
      "Epoch 27/100\n",
      "\u001b[1m250/250\u001b[0m \u001b[32m━━━━━━━━━━━━━━━━━━━━\u001b[0m\u001b[37m\u001b[0m \u001b[1m0s\u001b[0m 745us/step - loss: 9.4284 - root_mean_squared_error: 3.0704\n",
      "Epoch 28/100\n",
      "\u001b[1m250/250\u001b[0m \u001b[32m━━━━━━━━━━━━━━━━━━━━\u001b[0m\u001b[37m\u001b[0m \u001b[1m0s\u001b[0m 761us/step - loss: 9.3192 - root_mean_squared_error: 3.0524\n",
      "Epoch 29/100\n",
      "\u001b[1m250/250\u001b[0m \u001b[32m━━━━━━━━━━━━━━━━━━━━\u001b[0m\u001b[37m\u001b[0m \u001b[1m0s\u001b[0m 743us/step - loss: 9.0361 - root_mean_squared_error: 3.0047\n",
      "Epoch 30/100\n",
      "\u001b[1m250/250\u001b[0m \u001b[32m━━━━━━━━━━━━━━━━━━━━\u001b[0m\u001b[37m\u001b[0m \u001b[1m0s\u001b[0m 760us/step - loss: 9.2486 - root_mean_squared_error: 3.0405\n",
      "Epoch 31/100\n",
      "\u001b[1m250/250\u001b[0m \u001b[32m━━━━━━━━━━━━━━━━━━━━\u001b[0m\u001b[37m\u001b[0m \u001b[1m0s\u001b[0m 752us/step - loss: 9.1542 - root_mean_squared_error: 3.0254\n",
      "Epoch 32/100\n",
      "\u001b[1m250/250\u001b[0m \u001b[32m━━━━━━━━━━━━━━━━━━━━\u001b[0m\u001b[37m\u001b[0m \u001b[1m0s\u001b[0m 762us/step - loss: 9.4247 - root_mean_squared_error: 3.0696\n",
      "Epoch 33/100\n",
      "\u001b[1m250/250\u001b[0m \u001b[32m━━━━━━━━━━━━━━━━━━━━\u001b[0m\u001b[37m\u001b[0m \u001b[1m0s\u001b[0m 776us/step - loss: 9.0885 - root_mean_squared_error: 3.0142\n",
      "Epoch 34/100\n",
      "\u001b[1m250/250\u001b[0m \u001b[32m━━━━━━━━━━━━━━━━━━━━\u001b[0m\u001b[37m\u001b[0m \u001b[1m0s\u001b[0m 748us/step - loss: 9.0945 - root_mean_squared_error: 3.0155\n",
      "Epoch 35/100\n",
      "\u001b[1m250/250\u001b[0m \u001b[32m━━━━━━━━━━━━━━━━━━━━\u001b[0m\u001b[37m\u001b[0m \u001b[1m0s\u001b[0m 776us/step - loss: 9.1706 - root_mean_squared_error: 3.0281\n",
      "Epoch 36/100\n",
      "\u001b[1m250/250\u001b[0m \u001b[32m━━━━━━━━━━━━━━━━━━━━\u001b[0m\u001b[37m\u001b[0m \u001b[1m0s\u001b[0m 747us/step - loss: 8.9396 - root_mean_squared_error: 2.9894\n",
      "Epoch 37/100\n",
      "\u001b[1m250/250\u001b[0m \u001b[32m━━━━━━━━━━━━━━━━━━━━\u001b[0m\u001b[37m\u001b[0m \u001b[1m0s\u001b[0m 730us/step - loss: 9.0199 - root_mean_squared_error: 3.0030\n",
      "Epoch 38/100\n",
      "\u001b[1m250/250\u001b[0m \u001b[32m━━━━━━━━━━━━━━━━━━━━\u001b[0m\u001b[37m\u001b[0m \u001b[1m0s\u001b[0m 730us/step - loss: 9.1858 - root_mean_squared_error: 3.0306\n",
      "Epoch 39/100\n",
      "\u001b[1m250/250\u001b[0m \u001b[32m━━━━━━━━━━━━━━━━━━━━\u001b[0m\u001b[37m\u001b[0m \u001b[1m0s\u001b[0m 770us/step - loss: 9.3555 - root_mean_squared_error: 3.0583\n",
      "Epoch 40/100\n",
      "\u001b[1m250/250\u001b[0m \u001b[32m━━━━━━━━━━━━━━━━━━━━\u001b[0m\u001b[37m\u001b[0m \u001b[1m0s\u001b[0m 751us/step - loss: 8.9747 - root_mean_squared_error: 2.9951\n",
      "Epoch 41/100\n",
      "\u001b[1m250/250\u001b[0m \u001b[32m━━━━━━━━━━━━━━━━━━━━\u001b[0m\u001b[37m\u001b[0m \u001b[1m0s\u001b[0m 763us/step - loss: 9.1143 - root_mean_squared_error: 3.0183\n",
      "Epoch 42/100\n",
      "\u001b[1m250/250\u001b[0m \u001b[32m━━━━━━━━━━━━━━━━━━━━\u001b[0m\u001b[37m\u001b[0m \u001b[1m0s\u001b[0m 765us/step - loss: 9.2925 - root_mean_squared_error: 3.0483\n",
      "Epoch 43/100\n",
      "\u001b[1m250/250\u001b[0m \u001b[32m━━━━━━━━━━━━━━━━━━━━\u001b[0m\u001b[37m\u001b[0m \u001b[1m0s\u001b[0m 755us/step - loss: 8.9843 - root_mean_squared_error: 2.9969\n",
      "Epoch 44/100\n",
      "\u001b[1m250/250\u001b[0m \u001b[32m━━━━━━━━━━━━━━━━━━━━\u001b[0m\u001b[37m\u001b[0m \u001b[1m0s\u001b[0m 718us/step - loss: 9.4865 - root_mean_squared_error: 3.0798\n",
      "Epoch 45/100\n",
      "\u001b[1m250/250\u001b[0m \u001b[32m━━━━━━━━━━━━━━━━━━━━\u001b[0m\u001b[37m\u001b[0m \u001b[1m0s\u001b[0m 757us/step - loss: 9.1394 - root_mean_squared_error: 3.0224\n",
      "Epoch 46/100\n",
      "\u001b[1m250/250\u001b[0m \u001b[32m━━━━━━━━━━━━━━━━━━━━\u001b[0m\u001b[37m\u001b[0m \u001b[1m0s\u001b[0m 772us/step - loss: 9.1528 - root_mean_squared_error: 3.0253\n",
      "Epoch 47/100\n",
      "\u001b[1m250/250\u001b[0m \u001b[32m━━━━━━━━━━━━━━━━━━━━\u001b[0m\u001b[37m\u001b[0m \u001b[1m0s\u001b[0m 743us/step - loss: 9.1391 - root_mean_squared_error: 3.0228\n",
      "Epoch 48/100\n",
      "\u001b[1m250/250\u001b[0m \u001b[32m━━━━━━━━━━━━━━━━━━━━\u001b[0m\u001b[37m\u001b[0m \u001b[1m0s\u001b[0m 755us/step - loss: 9.2697 - root_mean_squared_error: 3.0444\n",
      "Epoch 49/100\n",
      "\u001b[1m250/250\u001b[0m \u001b[32m━━━━━━━━━━━━━━━━━━━━\u001b[0m\u001b[37m\u001b[0m \u001b[1m0s\u001b[0m 759us/step - loss: 9.2546 - root_mean_squared_error: 3.0413\n",
      "Epoch 50/100\n",
      "\u001b[1m250/250\u001b[0m \u001b[32m━━━━━━━━━━━━━━━━━━━━\u001b[0m\u001b[37m\u001b[0m \u001b[1m0s\u001b[0m 744us/step - loss: 9.0178 - root_mean_squared_error: 3.0021\n",
      "Epoch 51/100\n",
      "\u001b[1m250/250\u001b[0m \u001b[32m━━━━━━━━━━━━━━━━━━━━\u001b[0m\u001b[37m\u001b[0m \u001b[1m0s\u001b[0m 782us/step - loss: 9.3103 - root_mean_squared_error: 3.0510\n",
      "Epoch 52/100\n",
      "\u001b[1m250/250\u001b[0m \u001b[32m━━━━━━━━━━━━━━━━━━━━\u001b[0m\u001b[37m\u001b[0m \u001b[1m0s\u001b[0m 771us/step - loss: 9.2260 - root_mean_squared_error: 3.0371\n",
      "Epoch 53/100\n",
      "\u001b[1m250/250\u001b[0m \u001b[32m━━━━━━━━━━━━━━━━━━━━\u001b[0m\u001b[37m\u001b[0m \u001b[1m0s\u001b[0m 763us/step - loss: 8.9479 - root_mean_squared_error: 2.9904\n",
      "Epoch 54/100\n",
      "\u001b[1m250/250\u001b[0m \u001b[32m━━━━━━━━━━━━━━━━━━━━\u001b[0m\u001b[37m\u001b[0m \u001b[1m0s\u001b[0m 739us/step - loss: 9.1722 - root_mean_squared_error: 3.0285\n",
      "Epoch 55/100\n",
      "\u001b[1m250/250\u001b[0m \u001b[32m━━━━━━━━━━━━━━━━━━━━\u001b[0m\u001b[37m\u001b[0m \u001b[1m0s\u001b[0m 733us/step - loss: 8.9109 - root_mean_squared_error: 2.9844\n",
      "Epoch 56/100\n",
      "\u001b[1m250/250\u001b[0m \u001b[32m━━━━━━━━━━━━━━━━━━━━\u001b[0m\u001b[37m\u001b[0m \u001b[1m0s\u001b[0m 753us/step - loss: 9.0020 - root_mean_squared_error: 2.9999\n",
      "Epoch 57/100\n",
      "\u001b[1m250/250\u001b[0m \u001b[32m━━━━━━━━━━━━━━━━━━━━\u001b[0m\u001b[37m\u001b[0m \u001b[1m0s\u001b[0m 782us/step - loss: 8.9371 - root_mean_squared_error: 2.9889\n",
      "Epoch 58/100\n",
      "\u001b[1m250/250\u001b[0m \u001b[32m━━━━━━━━━━━━━━━━━━━━\u001b[0m\u001b[37m\u001b[0m \u001b[1m0s\u001b[0m 732us/step - loss: 9.3824 - root_mean_squared_error: 3.0629\n",
      "Epoch 59/100\n",
      "\u001b[1m250/250\u001b[0m \u001b[32m━━━━━━━━━━━━━━━━━━━━\u001b[0m\u001b[37m\u001b[0m \u001b[1m0s\u001b[0m 740us/step - loss: 9.2267 - root_mean_squared_error: 3.0366\n"
     ]
    },
    {
     "name": "stdout",
     "output_type": "stream",
     "text": [
      "Epoch 60/100\n",
      "\u001b[1m250/250\u001b[0m \u001b[32m━━━━━━━━━━━━━━━━━━━━\u001b[0m\u001b[37m\u001b[0m \u001b[1m0s\u001b[0m 759us/step - loss: 9.2360 - root_mean_squared_error: 3.0384\n",
      "Epoch 61/100\n",
      "\u001b[1m250/250\u001b[0m \u001b[32m━━━━━━━━━━━━━━━━━━━━\u001b[0m\u001b[37m\u001b[0m \u001b[1m0s\u001b[0m 730us/step - loss: 8.9837 - root_mean_squared_error: 2.9965\n",
      "Epoch 62/100\n",
      "\u001b[1m250/250\u001b[0m \u001b[32m━━━━━━━━━━━━━━━━━━━━\u001b[0m\u001b[37m\u001b[0m \u001b[1m0s\u001b[0m 764us/step - loss: 9.0608 - root_mean_squared_error: 3.0098\n",
      "Epoch 63/100\n",
      "\u001b[1m250/250\u001b[0m \u001b[32m━━━━━━━━━━━━━━━━━━━━\u001b[0m\u001b[37m\u001b[0m \u001b[1m0s\u001b[0m 747us/step - loss: 9.0912 - root_mean_squared_error: 3.0148\n",
      "Epoch 64/100\n",
      "\u001b[1m250/250\u001b[0m \u001b[32m━━━━━━━━━━━━━━━━━━━━\u001b[0m\u001b[37m\u001b[0m \u001b[1m0s\u001b[0m 734us/step - loss: 9.0557 - root_mean_squared_error: 3.0087\n",
      "Epoch 65/100\n",
      "\u001b[1m250/250\u001b[0m \u001b[32m━━━━━━━━━━━━━━━━━━━━\u001b[0m\u001b[37m\u001b[0m \u001b[1m0s\u001b[0m 726us/step - loss: 9.2064 - root_mean_squared_error: 3.0333\n",
      "Epoch 66/100\n",
      "\u001b[1m250/250\u001b[0m \u001b[32m━━━━━━━━━━━━━━━━━━━━\u001b[0m\u001b[37m\u001b[0m \u001b[1m0s\u001b[0m 729us/step - loss: 9.1690 - root_mean_squared_error: 3.0277\n",
      "Epoch 67/100\n",
      "\u001b[1m250/250\u001b[0m \u001b[32m━━━━━━━━━━━━━━━━━━━━\u001b[0m\u001b[37m\u001b[0m \u001b[1m0s\u001b[0m 750us/step - loss: 9.2225 - root_mean_squared_error: 3.0366\n",
      "Epoch 68/100\n",
      "\u001b[1m250/250\u001b[0m \u001b[32m━━━━━━━━━━━━━━━━━━━━\u001b[0m\u001b[37m\u001b[0m \u001b[1m0s\u001b[0m 722us/step - loss: 9.2699 - root_mean_squared_error: 3.0441\n",
      "Epoch 69/100\n",
      "\u001b[1m250/250\u001b[0m \u001b[32m━━━━━━━━━━━━━━━━━━━━\u001b[0m\u001b[37m\u001b[0m \u001b[1m0s\u001b[0m 755us/step - loss: 8.9518 - root_mean_squared_error: 2.9917\n",
      "Epoch 70/100\n",
      "\u001b[1m250/250\u001b[0m \u001b[32m━━━━━━━━━━━━━━━━━━━━\u001b[0m\u001b[37m\u001b[0m \u001b[1m0s\u001b[0m 769us/step - loss: 9.1844 - root_mean_squared_error: 3.0302\n",
      "Epoch 71/100\n",
      "\u001b[1m250/250\u001b[0m \u001b[32m━━━━━━━━━━━━━━━━━━━━\u001b[0m\u001b[37m\u001b[0m \u001b[1m0s\u001b[0m 757us/step - loss: 9.1325 - root_mean_squared_error: 3.0209\n",
      "Epoch 72/100\n",
      "\u001b[1m250/250\u001b[0m \u001b[32m━━━━━━━━━━━━━━━━━━━━\u001b[0m\u001b[37m\u001b[0m \u001b[1m0s\u001b[0m 809us/step - loss: 9.0844 - root_mean_squared_error: 3.0137\n",
      "Epoch 73/100\n",
      "\u001b[1m250/250\u001b[0m \u001b[32m━━━━━━━━━━━━━━━━━━━━\u001b[0m\u001b[37m\u001b[0m \u001b[1m0s\u001b[0m 797us/step - loss: 9.3389 - root_mean_squared_error: 3.0557\n",
      "Epoch 74/100\n",
      "\u001b[1m250/250\u001b[0m \u001b[32m━━━━━━━━━━━━━━━━━━━━\u001b[0m\u001b[37m\u001b[0m \u001b[1m0s\u001b[0m 765us/step - loss: 9.0217 - root_mean_squared_error: 3.0031\n",
      "Epoch 75/100\n",
      "\u001b[1m250/250\u001b[0m \u001b[32m━━━━━━━━━━━━━━━━━━━━\u001b[0m\u001b[37m\u001b[0m \u001b[1m0s\u001b[0m 805us/step - loss: 9.3709 - root_mean_squared_error: 3.0610\n",
      "Epoch 76/100\n",
      "\u001b[1m250/250\u001b[0m \u001b[32m━━━━━━━━━━━━━━━━━━━━\u001b[0m\u001b[37m\u001b[0m \u001b[1m0s\u001b[0m 765us/step - loss: 9.0687 - root_mean_squared_error: 3.0112\n",
      "Epoch 77/100\n",
      "\u001b[1m250/250\u001b[0m \u001b[32m━━━━━━━━━━━━━━━━━━━━\u001b[0m\u001b[37m\u001b[0m \u001b[1m0s\u001b[0m 789us/step - loss: 9.1561 - root_mean_squared_error: 3.0253\n",
      "Epoch 78/100\n",
      "\u001b[1m250/250\u001b[0m \u001b[32m━━━━━━━━━━━━━━━━━━━━\u001b[0m\u001b[37m\u001b[0m \u001b[1m0s\u001b[0m 765us/step - loss: 8.9847 - root_mean_squared_error: 2.9972\n",
      "Epoch 79/100\n",
      "\u001b[1m250/250\u001b[0m \u001b[32m━━━━━━━━━━━━━━━━━━━━\u001b[0m\u001b[37m\u001b[0m \u001b[1m0s\u001b[0m 773us/step - loss: 9.3567 - root_mean_squared_error: 3.0583\n",
      "Epoch 80/100\n",
      "\u001b[1m250/250\u001b[0m \u001b[32m━━━━━━━━━━━━━━━━━━━━\u001b[0m\u001b[37m\u001b[0m \u001b[1m0s\u001b[0m 790us/step - loss: 9.2852 - root_mean_squared_error: 3.0471\n",
      "Epoch 81/100\n",
      "\u001b[1m250/250\u001b[0m \u001b[32m━━━━━━━━━━━━━━━━━━━━\u001b[0m\u001b[37m\u001b[0m \u001b[1m0s\u001b[0m 746us/step - loss: 9.1924 - root_mean_squared_error: 3.0316\n",
      "Epoch 82/100\n",
      "\u001b[1m250/250\u001b[0m \u001b[32m━━━━━━━━━━━━━━━━━━━━\u001b[0m\u001b[37m\u001b[0m \u001b[1m0s\u001b[0m 790us/step - loss: 9.1043 - root_mean_squared_error: 3.0170\n",
      "Epoch 83/100\n",
      "\u001b[1m250/250\u001b[0m \u001b[32m━━━━━━━━━━━━━━━━━━━━\u001b[0m\u001b[37m\u001b[0m \u001b[1m0s\u001b[0m 745us/step - loss: 9.2917 - root_mean_squared_error: 3.0478\n",
      "Epoch 84/100\n",
      "\u001b[1m250/250\u001b[0m \u001b[32m━━━━━━━━━━━━━━━━━━━━\u001b[0m\u001b[37m\u001b[0m \u001b[1m0s\u001b[0m 756us/step - loss: 9.1893 - root_mean_squared_error: 3.0313\n",
      "Epoch 85/100\n",
      "\u001b[1m250/250\u001b[0m \u001b[32m━━━━━━━━━━━━━━━━━━━━\u001b[0m\u001b[37m\u001b[0m \u001b[1m0s\u001b[0m 734us/step - loss: 9.0333 - root_mean_squared_error: 3.0051\n",
      "Epoch 86/100\n",
      "\u001b[1m250/250\u001b[0m \u001b[32m━━━━━━━━━━━━━━━━━━━━\u001b[0m\u001b[37m\u001b[0m \u001b[1m0s\u001b[0m 743us/step - loss: 9.0492 - root_mean_squared_error: 3.0080\n",
      "Epoch 87/100\n",
      "\u001b[1m250/250\u001b[0m \u001b[32m━━━━━━━━━━━━━━━━━━━━\u001b[0m\u001b[37m\u001b[0m \u001b[1m0s\u001b[0m 711us/step - loss: 9.4742 - root_mean_squared_error: 3.0776\n",
      "Epoch 88/100\n",
      "\u001b[1m250/250\u001b[0m \u001b[32m━━━━━━━━━━━━━━━━━━━━\u001b[0m\u001b[37m\u001b[0m \u001b[1m0s\u001b[0m 737us/step - loss: 9.0303 - root_mean_squared_error: 3.0038\n",
      "Epoch 89/100\n",
      "\u001b[1m250/250\u001b[0m \u001b[32m━━━━━━━━━━━━━━━━━━━━\u001b[0m\u001b[37m\u001b[0m \u001b[1m0s\u001b[0m 740us/step - loss: 9.2099 - root_mean_squared_error: 3.0342\n",
      "Epoch 90/100\n",
      "\u001b[1m250/250\u001b[0m \u001b[32m━━━━━━━━━━━━━━━━━━━━\u001b[0m\u001b[37m\u001b[0m \u001b[1m0s\u001b[0m 742us/step - loss: 9.0168 - root_mean_squared_error: 3.0023\n",
      "Epoch 91/100\n",
      "\u001b[1m250/250\u001b[0m \u001b[32m━━━━━━━━━━━━━━━━━━━━\u001b[0m\u001b[37m\u001b[0m \u001b[1m0s\u001b[0m 745us/step - loss: 9.1034 - root_mean_squared_error: 3.0170\n",
      "Epoch 92/100\n",
      "\u001b[1m250/250\u001b[0m \u001b[32m━━━━━━━━━━━━━━━━━━━━\u001b[0m\u001b[37m\u001b[0m \u001b[1m0s\u001b[0m 728us/step - loss: 9.1719 - root_mean_squared_error: 3.0281\n",
      "Epoch 93/100\n",
      "\u001b[1m250/250\u001b[0m \u001b[32m━━━━━━━━━━━━━━━━━━━━\u001b[0m\u001b[37m\u001b[0m \u001b[1m0s\u001b[0m 743us/step - loss: 9.4335 - root_mean_squared_error: 3.0711\n",
      "Epoch 94/100\n",
      "\u001b[1m250/250\u001b[0m \u001b[32m━━━━━━━━━━━━━━━━━━━━\u001b[0m\u001b[37m\u001b[0m \u001b[1m0s\u001b[0m 772us/step - loss: 9.1706 - root_mean_squared_error: 3.0278\n",
      "Epoch 95/100\n",
      "\u001b[1m250/250\u001b[0m \u001b[32m━━━━━━━━━━━━━━━━━━━━\u001b[0m\u001b[37m\u001b[0m \u001b[1m0s\u001b[0m 741us/step - loss: 9.2207 - root_mean_squared_error: 3.0363\n",
      "Epoch 96/100\n",
      "\u001b[1m250/250\u001b[0m \u001b[32m━━━━━━━━━━━━━━━━━━━━\u001b[0m\u001b[37m\u001b[0m \u001b[1m0s\u001b[0m 725us/step - loss: 8.8180 - root_mean_squared_error: 2.9688\n",
      "Epoch 97/100\n",
      "\u001b[1m250/250\u001b[0m \u001b[32m━━━━━━━━━━━━━━━━━━━━\u001b[0m\u001b[37m\u001b[0m \u001b[1m0s\u001b[0m 751us/step - loss: 9.3085 - root_mean_squared_error: 3.0508\n",
      "Epoch 98/100\n",
      "\u001b[1m250/250\u001b[0m \u001b[32m━━━━━━━━━━━━━━━━━━━━\u001b[0m\u001b[37m\u001b[0m \u001b[1m0s\u001b[0m 743us/step - loss: 9.1466 - root_mean_squared_error: 3.0240\n",
      "Epoch 99/100\n",
      "\u001b[1m250/250\u001b[0m \u001b[32m━━━━━━━━━━━━━━━━━━━━\u001b[0m\u001b[37m\u001b[0m \u001b[1m0s\u001b[0m 737us/step - loss: 9.1102 - root_mean_squared_error: 3.0180\n",
      "Epoch 100/100\n",
      "\u001b[1m250/250\u001b[0m \u001b[32m━━━━━━━━━━━━━━━━━━━━\u001b[0m\u001b[37m\u001b[0m \u001b[1m0s\u001b[0m 744us/step - loss: 8.8280 - root_mean_squared_error: 2.9693\n"
     ]
    }
   ],
   "source": [
    "#Fitting the final tuned model\n",
    "final_model = tuner.hypermodel.build(best_model)\n",
    "history = final_model.fit(X_train, y_train, epochs = 100,)"
   ]
  },
  {
   "cell_type": "code",
   "execution_count": 43,
   "id": "43da73a5",
   "metadata": {},
   "outputs": [
    {
     "data": {
      "text/html": [
       "<pre style=\"white-space:pre;overflow-x:auto;line-height:normal;font-family:Menlo,'DejaVu Sans Mono',consolas,'Courier New',monospace\"><span style=\"font-weight: bold\">Model: \"sequential\"</span>\n",
       "</pre>\n"
      ],
      "text/plain": [
       "\u001b[1mModel: \"sequential\"\u001b[0m\n"
      ]
     },
     "metadata": {},
     "output_type": "display_data"
    },
    {
     "data": {
      "text/html": [
       "<pre style=\"white-space:pre;overflow-x:auto;line-height:normal;font-family:Menlo,'DejaVu Sans Mono',consolas,'Courier New',monospace\">┏━━━━━━━━━━━━━━━━━━━━━━━━━━━━━━━━━┳━━━━━━━━━━━━━━━━━━━━━━━━┳━━━━━━━━━━━━━━━┓\n",
       "┃<span style=\"font-weight: bold\"> Layer (type)                    </span>┃<span style=\"font-weight: bold\"> Output Shape           </span>┃<span style=\"font-weight: bold\">       Param # </span>┃\n",
       "┡━━━━━━━━━━━━━━━━━━━━━━━━━━━━━━━━━╇━━━━━━━━━━━━━━━━━━━━━━━━╇━━━━━━━━━━━━━━━┩\n",
       "│ dense (<span style=\"color: #0087ff; text-decoration-color: #0087ff\">Dense</span>)                   │ (<span style=\"color: #00d7ff; text-decoration-color: #00d7ff\">None</span>, <span style=\"color: #00af00; text-decoration-color: #00af00\">161</span>)            │         <span style=\"color: #00af00; text-decoration-color: #00af00\">1,610</span> │\n",
       "├─────────────────────────────────┼────────────────────────┼───────────────┤\n",
       "│ dense_1 (<span style=\"color: #0087ff; text-decoration-color: #0087ff\">Dense</span>)                 │ (<span style=\"color: #00d7ff; text-decoration-color: #00d7ff\">None</span>, <span style=\"color: #00af00; text-decoration-color: #00af00\">181</span>)            │        <span style=\"color: #00af00; text-decoration-color: #00af00\">29,322</span> │\n",
       "├─────────────────────────────────┼────────────────────────┼───────────────┤\n",
       "│ dense_2 (<span style=\"color: #0087ff; text-decoration-color: #0087ff\">Dense</span>)                 │ (<span style=\"color: #00d7ff; text-decoration-color: #00d7ff\">None</span>, <span style=\"color: #00af00; text-decoration-color: #00af00\">121</span>)            │        <span style=\"color: #00af00; text-decoration-color: #00af00\">22,022</span> │\n",
       "└─────────────────────────────────┴────────────────────────┴───────────────┘\n",
       "</pre>\n"
      ],
      "text/plain": [
       "┏━━━━━━━━━━━━━━━━━━━━━━━━━━━━━━━━━┳━━━━━━━━━━━━━━━━━━━━━━━━┳━━━━━━━━━━━━━━━┓\n",
       "┃\u001b[1m \u001b[0m\u001b[1mLayer (type)                   \u001b[0m\u001b[1m \u001b[0m┃\u001b[1m \u001b[0m\u001b[1mOutput Shape          \u001b[0m\u001b[1m \u001b[0m┃\u001b[1m \u001b[0m\u001b[1m      Param #\u001b[0m\u001b[1m \u001b[0m┃\n",
       "┡━━━━━━━━━━━━━━━━━━━━━━━━━━━━━━━━━╇━━━━━━━━━━━━━━━━━━━━━━━━╇━━━━━━━━━━━━━━━┩\n",
       "│ dense (\u001b[38;5;33mDense\u001b[0m)                   │ (\u001b[38;5;45mNone\u001b[0m, \u001b[38;5;34m161\u001b[0m)            │         \u001b[38;5;34m1,610\u001b[0m │\n",
       "├─────────────────────────────────┼────────────────────────┼───────────────┤\n",
       "│ dense_1 (\u001b[38;5;33mDense\u001b[0m)                 │ (\u001b[38;5;45mNone\u001b[0m, \u001b[38;5;34m181\u001b[0m)            │        \u001b[38;5;34m29,322\u001b[0m │\n",
       "├─────────────────────────────────┼────────────────────────┼───────────────┤\n",
       "│ dense_2 (\u001b[38;5;33mDense\u001b[0m)                 │ (\u001b[38;5;45mNone\u001b[0m, \u001b[38;5;34m121\u001b[0m)            │        \u001b[38;5;34m22,022\u001b[0m │\n",
       "└─────────────────────────────────┴────────────────────────┴───────────────┘\n"
      ]
     },
     "metadata": {},
     "output_type": "display_data"
    },
    {
     "data": {
      "text/html": [
       "<pre style=\"white-space:pre;overflow-x:auto;line-height:normal;font-family:Menlo,'DejaVu Sans Mono',consolas,'Courier New',monospace\"><span style=\"font-weight: bold\"> Total params: </span><span style=\"color: #00af00; text-decoration-color: #00af00\">158,864</span> (620.57 KB)\n",
       "</pre>\n"
      ],
      "text/plain": [
       "\u001b[1m Total params: \u001b[0m\u001b[38;5;34m158,864\u001b[0m (620.57 KB)\n"
      ]
     },
     "metadata": {},
     "output_type": "display_data"
    },
    {
     "data": {
      "text/html": [
       "<pre style=\"white-space:pre;overflow-x:auto;line-height:normal;font-family:Menlo,'DejaVu Sans Mono',consolas,'Courier New',monospace\"><span style=\"font-weight: bold\"> Trainable params: </span><span style=\"color: #00af00; text-decoration-color: #00af00\">52,954</span> (206.85 KB)\n",
       "</pre>\n"
      ],
      "text/plain": [
       "\u001b[1m Trainable params: \u001b[0m\u001b[38;5;34m52,954\u001b[0m (206.85 KB)\n"
      ]
     },
     "metadata": {},
     "output_type": "display_data"
    },
    {
     "data": {
      "text/html": [
       "<pre style=\"white-space:pre;overflow-x:auto;line-height:normal;font-family:Menlo,'DejaVu Sans Mono',consolas,'Courier New',monospace\"><span style=\"font-weight: bold\"> Non-trainable params: </span><span style=\"color: #00af00; text-decoration-color: #00af00\">0</span> (0.00 B)\n",
       "</pre>\n"
      ],
      "text/plain": [
       "\u001b[1m Non-trainable params: \u001b[0m\u001b[38;5;34m0\u001b[0m (0.00 B)\n"
      ]
     },
     "metadata": {},
     "output_type": "display_data"
    },
    {
     "data": {
      "text/html": [
       "<pre style=\"white-space:pre;overflow-x:auto;line-height:normal;font-family:Menlo,'DejaVu Sans Mono',consolas,'Courier New',monospace\"><span style=\"font-weight: bold\"> Optimizer params: </span><span style=\"color: #00af00; text-decoration-color: #00af00\">105,910</span> (413.71 KB)\n",
       "</pre>\n"
      ],
      "text/plain": [
       "\u001b[1m Optimizer params: \u001b[0m\u001b[38;5;34m105,910\u001b[0m (413.71 KB)\n"
      ]
     },
     "metadata": {},
     "output_type": "display_data"
    }
   ],
   "source": [
    "final_model.summary()"
   ]
  },
  {
   "cell_type": "code",
   "execution_count": 44,
   "id": "2719b71d",
   "metadata": {},
   "outputs": [
    {
     "data": {
      "text/plain": [
       "3.0336453914642334"
      ]
     },
     "execution_count": 44,
     "metadata": {},
     "output_type": "execute_result"
    }
   ],
   "source": [
    "#Evaluating the RMSE of the best epoch\n",
    "neural_df = pd.DataFrame(history.history)\n",
    "neural_df['root_mean_squared_error'].min()"
   ]
  },
  {
   "cell_type": "markdown",
   "id": "0b716140",
   "metadata": {},
   "source": [
    "### Revisiting Features\n",
    "The features manually selected in the above model are fairly easy to obtain utilizing software. However, to see if less features or a better model can be constructed, we will conduct further manual feature elimination followed by recursive feature elimination and compare the results to those above."
   ]
  },
  {
   "cell_type": "code",
   "execution_count": 45,
   "id": "f47fc09a",
   "metadata": {},
   "outputs": [
    {
     "data": {
      "text/plain": [
       "Solubility           1.000000\n",
       "NumHDonors           0.192767\n",
       "NumRotatableBonds   -0.222551\n",
       "BertzCT             -0.287713\n",
       "RingCount           -0.335921\n",
       "NumAromaticRings    -0.343989\n",
       "LabuteASA           -0.349797\n",
       "MolWt               -0.367409\n",
       "MolMR               -0.421327\n",
       "MolLogP             -0.600633\n",
       "Name: Solubility, dtype: float64"
      ]
     },
     "execution_count": 45,
     "metadata": {},
     "output_type": "execute_result"
    }
   ],
   "source": [
    "#Viewing correlation of previous training set\n",
    "train_set_scaled2 = train_set_scaled.copy()\n",
    "train_set_scaled2['Solubility'] = train_set_reduced['Solubility']\n",
    "test_set_scaled2 = test_set_scaled.copy()\n",
    "test_set_scaled2['Solubility'] = test_set_reduced['Solubility']\n",
    "train_set_scaled2.corr()['Solubility'].sort_values(ascending = False)"
   ]
  },
  {
   "cell_type": "code",
   "execution_count": 46,
   "id": "994621d7",
   "metadata": {},
   "outputs": [
    {
     "data": {
      "text/html": [
       "<div>\n",
       "<style scoped>\n",
       "    .dataframe tbody tr th:only-of-type {\n",
       "        vertical-align: middle;\n",
       "    }\n",
       "\n",
       "    .dataframe tbody tr th {\n",
       "        vertical-align: top;\n",
       "    }\n",
       "\n",
       "    .dataframe thead th {\n",
       "        text-align: right;\n",
       "    }\n",
       "</style>\n",
       "<table border=\"1\" class=\"dataframe\">\n",
       "  <thead>\n",
       "    <tr style=\"text-align: right;\">\n",
       "      <th></th>\n",
       "      <th>variable</th>\n",
       "      <th>vif</th>\n",
       "    </tr>\n",
       "  </thead>\n",
       "  <tbody>\n",
       "    <tr>\n",
       "      <th>0</th>\n",
       "      <td>MolWt</td>\n",
       "      <td>21.304715</td>\n",
       "    </tr>\n",
       "    <tr>\n",
       "      <th>1</th>\n",
       "      <td>MolLogP</td>\n",
       "      <td>5.225917</td>\n",
       "    </tr>\n",
       "    <tr>\n",
       "      <th>2</th>\n",
       "      <td>MolMR</td>\n",
       "      <td>58.321323</td>\n",
       "    </tr>\n",
       "    <tr>\n",
       "      <th>3</th>\n",
       "      <td>NumHDonors</td>\n",
       "      <td>1.611281</td>\n",
       "    </tr>\n",
       "    <tr>\n",
       "      <th>4</th>\n",
       "      <td>NumRotatableBonds</td>\n",
       "      <td>6.592749</td>\n",
       "    </tr>\n",
       "    <tr>\n",
       "      <th>5</th>\n",
       "      <td>NumAromaticRings</td>\n",
       "      <td>5.128030</td>\n",
       "    </tr>\n",
       "    <tr>\n",
       "      <th>6</th>\n",
       "      <td>RingCount</td>\n",
       "      <td>5.648473</td>\n",
       "    </tr>\n",
       "    <tr>\n",
       "      <th>7</th>\n",
       "      <td>LabuteASA</td>\n",
       "      <td>75.898835</td>\n",
       "    </tr>\n",
       "    <tr>\n",
       "      <th>8</th>\n",
       "      <td>BertzCT</td>\n",
       "      <td>18.713669</td>\n",
       "    </tr>\n",
       "    <tr>\n",
       "      <th>9</th>\n",
       "      <td>Solubility</td>\n",
       "      <td>1.251515</td>\n",
       "    </tr>\n",
       "  </tbody>\n",
       "</table>\n",
       "</div>"
      ],
      "text/plain": [
       "            variable        vif\n",
       "0              MolWt  21.304715\n",
       "1            MolLogP   5.225917\n",
       "2              MolMR  58.321323\n",
       "3         NumHDonors   1.611281\n",
       "4  NumRotatableBonds   6.592749\n",
       "5   NumAromaticRings   5.128030\n",
       "6          RingCount   5.648473\n",
       "7          LabuteASA  75.898835\n",
       "8            BertzCT  18.713669\n",
       "9         Solubility   1.251515"
      ]
     },
     "execution_count": 46,
     "metadata": {},
     "output_type": "execute_result"
    }
   ],
   "source": [
    "#Viewing vif of previous training set\n",
    "vif2 = pd.DataFrame(data = train_set_scaled2.columns, columns = ['variable'])\n",
    "vif2['vif'] = [variance_inflation_factor(train_set_scaled2.values, i) for i in range(len(train_set_scaled2.columns))]\n",
    "vif2"
   ]
  },
  {
   "cell_type": "code",
   "execution_count": 47,
   "id": "5facb3b9",
   "metadata": {},
   "outputs": [
    {
     "name": "stdout",
     "output_type": "stream",
     "text": [
      "rfr_w/o_labute RMSE:  1.2393173395433246 rfr_w/_labute RMSE 1.2346294843076018\n"
     ]
    }
   ],
   "source": [
    "#Based on the high vif value and mediocre correlation, LabuteASA will be dropped and the rmse will be calculated\n",
    "#test_set_scaled2 = test_set_scaled.copy()\n",
    "#train_set_scaled2 = train_set_scaled.copy()\n",
    "\n",
    "train_set_scaled2 = train_set_scaled2.drop(['LabuteASA'], axis = 1)\n",
    "test_set_scaled2 = test_set_scaled2.drop(['LabuteASA'], axis = 1)\n",
    "\n",
    "X_train3 = train_set_scaled2.drop(['Solubility'], axis = 1)\n",
    "y_train3 = train_set_scaled2['Solubility']\n",
    "\n",
    "X_test3 = test_set_scaled2.drop(['Solubility'], axis = 1)\n",
    "y_test3 = test_set_scaled2['Solubility']\n",
    "\n",
    "random_forest = RandomForestRegressor(random_state = 42)\n",
    "random_forest.fit(X_train3, y_train3)\n",
    "\n",
    "random_forest_rmse = -cross_val_score(random_forest, X_train3, y_train3, cv = 3, scoring = 'neg_root_mean_squared_error').mean()\n",
    "\n",
    "print('rfr_w/o_labute RMSE: ', random_forest_rmse, 'rfr_w/_labute RMSE', rfr_rmse)"
   ]
  },
  {
   "cell_type": "code",
   "execution_count": 48,
   "id": "4042e98e",
   "metadata": {},
   "outputs": [
    {
     "name": "stdout",
     "output_type": "stream",
     "text": [
      "rfr_w/o_labute RMSE:  1.2330446631039336 rfr_w/_labute RMSE 1.2292263534457697\n"
     ]
    }
   ],
   "source": [
    "#Testing the optimized RandomForestRegressor model with and without labuteASA\n",
    "random_forest2 = RandomForestRegressor(random_state = 42, n_estimators = 2000, min_samples_split = 2, max_depth = 42)\n",
    "random_forest2.fit(X_train3, y_train3)\n",
    "\n",
    "random_forest_rmse2 = -cross_val_score(random_forest2, X_train3, y_train3, cv = 3, scoring = 'neg_root_mean_squared_error').mean()\n",
    "\n",
    "print('rfr_w/o_labute RMSE: ', random_forest_rmse2, 'rfr_w/_labute RMSE', rfr4_opt_rmse)"
   ]
  },
  {
   "cell_type": "markdown",
   "id": "4d4c1ca9",
   "metadata": {},
   "source": [
    "The removal of the feature LabuteASA appeared to have a detrimental effect on the default random forest model, based on RMSE. Next, we will remove the feature with the lowest correlation."
   ]
  },
  {
   "cell_type": "code",
   "execution_count": 49,
   "id": "f165baaf",
   "metadata": {},
   "outputs": [
    {
     "name": "stdout",
     "output_type": "stream",
     "text": [
      "rfr_w/o_NumH RMSE:  1.2443272223533783 rfr_w/_NumH RMSE 1.2346294843076018\n"
     ]
    }
   ],
   "source": [
    "#Based on the low correlation, NumHDonors will be dropped and the rmse will be calculated\n",
    "train_set_scaled2 = train_set_scaled.copy()\n",
    "train_set_scaled2['Solubility'] = train_set_reduced['Solubility']\n",
    "test_set_scaled2 = test_set_scaled.copy()\n",
    "test_set_scaled2['Solubility'] = test_set_reduced['Solubility']\n",
    "\n",
    "train_set_scaled2 = train_set_scaled2.drop(['NumHDonors'], axis = 1)\n",
    "test_set_scaled2 = test_set_scaled2.drop(['NumHDonors'], axis = 1)\n",
    "\n",
    "X_train3 = train_set_scaled2.drop(['Solubility'], axis = 1)\n",
    "y_train3 = train_set_scaled2['Solubility']\n",
    "\n",
    "X_test3 = test_set_scaled2.drop(['Solubility'], axis = 1)\n",
    "y_test3 = test_set_scaled2['Solubility']\n",
    "\n",
    "random_forest2 = RandomForestRegressor(random_state = 42)\n",
    "random_forest2.fit(X_train3, y_train3)\n",
    "\n",
    "random_forest_rmse = -cross_val_score(random_forest2, X_train3, y_train3, cv = 3, scoring = 'neg_root_mean_squared_error').mean()\n",
    "\n",
    "print('rfr_w/o_NumH RMSE: ', random_forest_rmse, 'rfr_w/_NumH RMSE', rfr_rmse)"
   ]
  },
  {
   "cell_type": "markdown",
   "id": "2e7275bb",
   "metadata": {},
   "source": [
    "As with the removal of LabuteASA, the removal of NumHDonors also had a deleterious effect on RMSE of the default random forest model."
   ]
  },
  {
   "cell_type": "code",
   "execution_count": 50,
   "id": "5354fdba",
   "metadata": {},
   "outputs": [],
   "source": [
    "#Creating another train and test set to conduct feature selection on\n",
    "X = data.drop(['Solubility'], axis = 1)\n",
    "y = data['Solubility']\n",
    "\n",
    "X_train2, X_test2, y_train2, y_test2 = train_test_split(X, y, test_size = 0.2, random_state = 42)"
   ]
  },
  {
   "cell_type": "code",
   "execution_count": 51,
   "id": "4fc5aae3",
   "metadata": {},
   "outputs": [],
   "source": [
    "#Scaling the features to be used in recursive feature elimination\n",
    "scale2 = StandardScaler()\n",
    "scale2.fit(X_train2)\n",
    "X_train2.values[:] = scale2.fit_transform(X_train2)\n",
    "X_test2.values[:] = scale2.transform(X_test2)"
   ]
  },
  {
   "cell_type": "code",
   "execution_count": 52,
   "id": "7db92131",
   "metadata": {},
   "outputs": [
    {
     "data": {
      "text/html": [
       "<style>#sk-container-id-1 {\n",
       "  /* Definition of color scheme common for light and dark mode */\n",
       "  --sklearn-color-text: black;\n",
       "  --sklearn-color-line: gray;\n",
       "  /* Definition of color scheme for unfitted estimators */\n",
       "  --sklearn-color-unfitted-level-0: #fff5e6;\n",
       "  --sklearn-color-unfitted-level-1: #f6e4d2;\n",
       "  --sklearn-color-unfitted-level-2: #ffe0b3;\n",
       "  --sklearn-color-unfitted-level-3: chocolate;\n",
       "  /* Definition of color scheme for fitted estimators */\n",
       "  --sklearn-color-fitted-level-0: #f0f8ff;\n",
       "  --sklearn-color-fitted-level-1: #d4ebff;\n",
       "  --sklearn-color-fitted-level-2: #b3dbfd;\n",
       "  --sklearn-color-fitted-level-3: cornflowerblue;\n",
       "\n",
       "  /* Specific color for light theme */\n",
       "  --sklearn-color-text-on-default-background: var(--sg-text-color, var(--theme-code-foreground, var(--jp-content-font-color1, black)));\n",
       "  --sklearn-color-background: var(--sg-background-color, var(--theme-background, var(--jp-layout-color0, white)));\n",
       "  --sklearn-color-border-box: var(--sg-text-color, var(--theme-code-foreground, var(--jp-content-font-color1, black)));\n",
       "  --sklearn-color-icon: #696969;\n",
       "\n",
       "  @media (prefers-color-scheme: dark) {\n",
       "    /* Redefinition of color scheme for dark theme */\n",
       "    --sklearn-color-text-on-default-background: var(--sg-text-color, var(--theme-code-foreground, var(--jp-content-font-color1, white)));\n",
       "    --sklearn-color-background: var(--sg-background-color, var(--theme-background, var(--jp-layout-color0, #111)));\n",
       "    --sklearn-color-border-box: var(--sg-text-color, var(--theme-code-foreground, var(--jp-content-font-color1, white)));\n",
       "    --sklearn-color-icon: #878787;\n",
       "  }\n",
       "}\n",
       "\n",
       "#sk-container-id-1 {\n",
       "  color: var(--sklearn-color-text);\n",
       "}\n",
       "\n",
       "#sk-container-id-1 pre {\n",
       "  padding: 0;\n",
       "}\n",
       "\n",
       "#sk-container-id-1 input.sk-hidden--visually {\n",
       "  border: 0;\n",
       "  clip: rect(1px 1px 1px 1px);\n",
       "  clip: rect(1px, 1px, 1px, 1px);\n",
       "  height: 1px;\n",
       "  margin: -1px;\n",
       "  overflow: hidden;\n",
       "  padding: 0;\n",
       "  position: absolute;\n",
       "  width: 1px;\n",
       "}\n",
       "\n",
       "#sk-container-id-1 div.sk-dashed-wrapped {\n",
       "  border: 1px dashed var(--sklearn-color-line);\n",
       "  margin: 0 0.4em 0.5em 0.4em;\n",
       "  box-sizing: border-box;\n",
       "  padding-bottom: 0.4em;\n",
       "  background-color: var(--sklearn-color-background);\n",
       "}\n",
       "\n",
       "#sk-container-id-1 div.sk-container {\n",
       "  /* jupyter's `normalize.less` sets `[hidden] { display: none; }`\n",
       "     but bootstrap.min.css set `[hidden] { display: none !important; }`\n",
       "     so we also need the `!important` here to be able to override the\n",
       "     default hidden behavior on the sphinx rendered scikit-learn.org.\n",
       "     See: https://github.com/scikit-learn/scikit-learn/issues/21755 */\n",
       "  display: inline-block !important;\n",
       "  position: relative;\n",
       "}\n",
       "\n",
       "#sk-container-id-1 div.sk-text-repr-fallback {\n",
       "  display: none;\n",
       "}\n",
       "\n",
       "div.sk-parallel-item,\n",
       "div.sk-serial,\n",
       "div.sk-item {\n",
       "  /* draw centered vertical line to link estimators */\n",
       "  background-image: linear-gradient(var(--sklearn-color-text-on-default-background), var(--sklearn-color-text-on-default-background));\n",
       "  background-size: 2px 100%;\n",
       "  background-repeat: no-repeat;\n",
       "  background-position: center center;\n",
       "}\n",
       "\n",
       "/* Parallel-specific style estimator block */\n",
       "\n",
       "#sk-container-id-1 div.sk-parallel-item::after {\n",
       "  content: \"\";\n",
       "  width: 100%;\n",
       "  border-bottom: 2px solid var(--sklearn-color-text-on-default-background);\n",
       "  flex-grow: 1;\n",
       "}\n",
       "\n",
       "#sk-container-id-1 div.sk-parallel {\n",
       "  display: flex;\n",
       "  align-items: stretch;\n",
       "  justify-content: center;\n",
       "  background-color: var(--sklearn-color-background);\n",
       "  position: relative;\n",
       "}\n",
       "\n",
       "#sk-container-id-1 div.sk-parallel-item {\n",
       "  display: flex;\n",
       "  flex-direction: column;\n",
       "}\n",
       "\n",
       "#sk-container-id-1 div.sk-parallel-item:first-child::after {\n",
       "  align-self: flex-end;\n",
       "  width: 50%;\n",
       "}\n",
       "\n",
       "#sk-container-id-1 div.sk-parallel-item:last-child::after {\n",
       "  align-self: flex-start;\n",
       "  width: 50%;\n",
       "}\n",
       "\n",
       "#sk-container-id-1 div.sk-parallel-item:only-child::after {\n",
       "  width: 0;\n",
       "}\n",
       "\n",
       "/* Serial-specific style estimator block */\n",
       "\n",
       "#sk-container-id-1 div.sk-serial {\n",
       "  display: flex;\n",
       "  flex-direction: column;\n",
       "  align-items: center;\n",
       "  background-color: var(--sklearn-color-background);\n",
       "  padding-right: 1em;\n",
       "  padding-left: 1em;\n",
       "}\n",
       "\n",
       "\n",
       "/* Toggleable style: style used for estimator/Pipeline/ColumnTransformer box that is\n",
       "clickable and can be expanded/collapsed.\n",
       "- Pipeline and ColumnTransformer use this feature and define the default style\n",
       "- Estimators will overwrite some part of the style using the `sk-estimator` class\n",
       "*/\n",
       "\n",
       "/* Pipeline and ColumnTransformer style (default) */\n",
       "\n",
       "#sk-container-id-1 div.sk-toggleable {\n",
       "  /* Default theme specific background. It is overwritten whether we have a\n",
       "  specific estimator or a Pipeline/ColumnTransformer */\n",
       "  background-color: var(--sklearn-color-background);\n",
       "}\n",
       "\n",
       "/* Toggleable label */\n",
       "#sk-container-id-1 label.sk-toggleable__label {\n",
       "  cursor: pointer;\n",
       "  display: block;\n",
       "  width: 100%;\n",
       "  margin-bottom: 0;\n",
       "  padding: 0.5em;\n",
       "  box-sizing: border-box;\n",
       "  text-align: center;\n",
       "}\n",
       "\n",
       "#sk-container-id-1 label.sk-toggleable__label-arrow:before {\n",
       "  /* Arrow on the left of the label */\n",
       "  content: \"▸\";\n",
       "  float: left;\n",
       "  margin-right: 0.25em;\n",
       "  color: var(--sklearn-color-icon);\n",
       "}\n",
       "\n",
       "#sk-container-id-1 label.sk-toggleable__label-arrow:hover:before {\n",
       "  color: var(--sklearn-color-text);\n",
       "}\n",
       "\n",
       "/* Toggleable content - dropdown */\n",
       "\n",
       "#sk-container-id-1 div.sk-toggleable__content {\n",
       "  max-height: 0;\n",
       "  max-width: 0;\n",
       "  overflow: hidden;\n",
       "  text-align: left;\n",
       "  /* unfitted */\n",
       "  background-color: var(--sklearn-color-unfitted-level-0);\n",
       "}\n",
       "\n",
       "#sk-container-id-1 div.sk-toggleable__content.fitted {\n",
       "  /* fitted */\n",
       "  background-color: var(--sklearn-color-fitted-level-0);\n",
       "}\n",
       "\n",
       "#sk-container-id-1 div.sk-toggleable__content pre {\n",
       "  margin: 0.2em;\n",
       "  border-radius: 0.25em;\n",
       "  color: var(--sklearn-color-text);\n",
       "  /* unfitted */\n",
       "  background-color: var(--sklearn-color-unfitted-level-0);\n",
       "}\n",
       "\n",
       "#sk-container-id-1 div.sk-toggleable__content.fitted pre {\n",
       "  /* unfitted */\n",
       "  background-color: var(--sklearn-color-fitted-level-0);\n",
       "}\n",
       "\n",
       "#sk-container-id-1 input.sk-toggleable__control:checked~div.sk-toggleable__content {\n",
       "  /* Expand drop-down */\n",
       "  max-height: 200px;\n",
       "  max-width: 100%;\n",
       "  overflow: auto;\n",
       "}\n",
       "\n",
       "#sk-container-id-1 input.sk-toggleable__control:checked~label.sk-toggleable__label-arrow:before {\n",
       "  content: \"▾\";\n",
       "}\n",
       "\n",
       "/* Pipeline/ColumnTransformer-specific style */\n",
       "\n",
       "#sk-container-id-1 div.sk-label input.sk-toggleable__control:checked~label.sk-toggleable__label {\n",
       "  color: var(--sklearn-color-text);\n",
       "  background-color: var(--sklearn-color-unfitted-level-2);\n",
       "}\n",
       "\n",
       "#sk-container-id-1 div.sk-label.fitted input.sk-toggleable__control:checked~label.sk-toggleable__label {\n",
       "  background-color: var(--sklearn-color-fitted-level-2);\n",
       "}\n",
       "\n",
       "/* Estimator-specific style */\n",
       "\n",
       "/* Colorize estimator box */\n",
       "#sk-container-id-1 div.sk-estimator input.sk-toggleable__control:checked~label.sk-toggleable__label {\n",
       "  /* unfitted */\n",
       "  background-color: var(--sklearn-color-unfitted-level-2);\n",
       "}\n",
       "\n",
       "#sk-container-id-1 div.sk-estimator.fitted input.sk-toggleable__control:checked~label.sk-toggleable__label {\n",
       "  /* fitted */\n",
       "  background-color: var(--sklearn-color-fitted-level-2);\n",
       "}\n",
       "\n",
       "#sk-container-id-1 div.sk-label label.sk-toggleable__label,\n",
       "#sk-container-id-1 div.sk-label label {\n",
       "  /* The background is the default theme color */\n",
       "  color: var(--sklearn-color-text-on-default-background);\n",
       "}\n",
       "\n",
       "/* On hover, darken the color of the background */\n",
       "#sk-container-id-1 div.sk-label:hover label.sk-toggleable__label {\n",
       "  color: var(--sklearn-color-text);\n",
       "  background-color: var(--sklearn-color-unfitted-level-2);\n",
       "}\n",
       "\n",
       "/* Label box, darken color on hover, fitted */\n",
       "#sk-container-id-1 div.sk-label.fitted:hover label.sk-toggleable__label.fitted {\n",
       "  color: var(--sklearn-color-text);\n",
       "  background-color: var(--sklearn-color-fitted-level-2);\n",
       "}\n",
       "\n",
       "/* Estimator label */\n",
       "\n",
       "#sk-container-id-1 div.sk-label label {\n",
       "  font-family: monospace;\n",
       "  font-weight: bold;\n",
       "  display: inline-block;\n",
       "  line-height: 1.2em;\n",
       "}\n",
       "\n",
       "#sk-container-id-1 div.sk-label-container {\n",
       "  text-align: center;\n",
       "}\n",
       "\n",
       "/* Estimator-specific */\n",
       "#sk-container-id-1 div.sk-estimator {\n",
       "  font-family: monospace;\n",
       "  border: 1px dotted var(--sklearn-color-border-box);\n",
       "  border-radius: 0.25em;\n",
       "  box-sizing: border-box;\n",
       "  margin-bottom: 0.5em;\n",
       "  /* unfitted */\n",
       "  background-color: var(--sklearn-color-unfitted-level-0);\n",
       "}\n",
       "\n",
       "#sk-container-id-1 div.sk-estimator.fitted {\n",
       "  /* fitted */\n",
       "  background-color: var(--sklearn-color-fitted-level-0);\n",
       "}\n",
       "\n",
       "/* on hover */\n",
       "#sk-container-id-1 div.sk-estimator:hover {\n",
       "  /* unfitted */\n",
       "  background-color: var(--sklearn-color-unfitted-level-2);\n",
       "}\n",
       "\n",
       "#sk-container-id-1 div.sk-estimator.fitted:hover {\n",
       "  /* fitted */\n",
       "  background-color: var(--sklearn-color-fitted-level-2);\n",
       "}\n",
       "\n",
       "/* Specification for estimator info (e.g. \"i\" and \"?\") */\n",
       "\n",
       "/* Common style for \"i\" and \"?\" */\n",
       "\n",
       ".sk-estimator-doc-link,\n",
       "a:link.sk-estimator-doc-link,\n",
       "a:visited.sk-estimator-doc-link {\n",
       "  float: right;\n",
       "  font-size: smaller;\n",
       "  line-height: 1em;\n",
       "  font-family: monospace;\n",
       "  background-color: var(--sklearn-color-background);\n",
       "  border-radius: 1em;\n",
       "  height: 1em;\n",
       "  width: 1em;\n",
       "  text-decoration: none !important;\n",
       "  margin-left: 1ex;\n",
       "  /* unfitted */\n",
       "  border: var(--sklearn-color-unfitted-level-1) 1pt solid;\n",
       "  color: var(--sklearn-color-unfitted-level-1);\n",
       "}\n",
       "\n",
       ".sk-estimator-doc-link.fitted,\n",
       "a:link.sk-estimator-doc-link.fitted,\n",
       "a:visited.sk-estimator-doc-link.fitted {\n",
       "  /* fitted */\n",
       "  border: var(--sklearn-color-fitted-level-1) 1pt solid;\n",
       "  color: var(--sklearn-color-fitted-level-1);\n",
       "}\n",
       "\n",
       "/* On hover */\n",
       "div.sk-estimator:hover .sk-estimator-doc-link:hover,\n",
       ".sk-estimator-doc-link:hover,\n",
       "div.sk-label-container:hover .sk-estimator-doc-link:hover,\n",
       ".sk-estimator-doc-link:hover {\n",
       "  /* unfitted */\n",
       "  background-color: var(--sklearn-color-unfitted-level-3);\n",
       "  color: var(--sklearn-color-background);\n",
       "  text-decoration: none;\n",
       "}\n",
       "\n",
       "div.sk-estimator.fitted:hover .sk-estimator-doc-link.fitted:hover,\n",
       ".sk-estimator-doc-link.fitted:hover,\n",
       "div.sk-label-container:hover .sk-estimator-doc-link.fitted:hover,\n",
       ".sk-estimator-doc-link.fitted:hover {\n",
       "  /* fitted */\n",
       "  background-color: var(--sklearn-color-fitted-level-3);\n",
       "  color: var(--sklearn-color-background);\n",
       "  text-decoration: none;\n",
       "}\n",
       "\n",
       "/* Span, style for the box shown on hovering the info icon */\n",
       ".sk-estimator-doc-link span {\n",
       "  display: none;\n",
       "  z-index: 9999;\n",
       "  position: relative;\n",
       "  font-weight: normal;\n",
       "  right: .2ex;\n",
       "  padding: .5ex;\n",
       "  margin: .5ex;\n",
       "  width: min-content;\n",
       "  min-width: 20ex;\n",
       "  max-width: 50ex;\n",
       "  color: var(--sklearn-color-text);\n",
       "  box-shadow: 2pt 2pt 4pt #999;\n",
       "  /* unfitted */\n",
       "  background: var(--sklearn-color-unfitted-level-0);\n",
       "  border: .5pt solid var(--sklearn-color-unfitted-level-3);\n",
       "}\n",
       "\n",
       ".sk-estimator-doc-link.fitted span {\n",
       "  /* fitted */\n",
       "  background: var(--sklearn-color-fitted-level-0);\n",
       "  border: var(--sklearn-color-fitted-level-3);\n",
       "}\n",
       "\n",
       ".sk-estimator-doc-link:hover span {\n",
       "  display: block;\n",
       "}\n",
       "\n",
       "/* \"?\"-specific style due to the `<a>` HTML tag */\n",
       "\n",
       "#sk-container-id-1 a.estimator_doc_link {\n",
       "  float: right;\n",
       "  font-size: 1rem;\n",
       "  line-height: 1em;\n",
       "  font-family: monospace;\n",
       "  background-color: var(--sklearn-color-background);\n",
       "  border-radius: 1rem;\n",
       "  height: 1rem;\n",
       "  width: 1rem;\n",
       "  text-decoration: none;\n",
       "  /* unfitted */\n",
       "  color: var(--sklearn-color-unfitted-level-1);\n",
       "  border: var(--sklearn-color-unfitted-level-1) 1pt solid;\n",
       "}\n",
       "\n",
       "#sk-container-id-1 a.estimator_doc_link.fitted {\n",
       "  /* fitted */\n",
       "  border: var(--sklearn-color-fitted-level-1) 1pt solid;\n",
       "  color: var(--sklearn-color-fitted-level-1);\n",
       "}\n",
       "\n",
       "/* On hover */\n",
       "#sk-container-id-1 a.estimator_doc_link:hover {\n",
       "  /* unfitted */\n",
       "  background-color: var(--sklearn-color-unfitted-level-3);\n",
       "  color: var(--sklearn-color-background);\n",
       "  text-decoration: none;\n",
       "}\n",
       "\n",
       "#sk-container-id-1 a.estimator_doc_link.fitted:hover {\n",
       "  /* fitted */\n",
       "  background-color: var(--sklearn-color-fitted-level-3);\n",
       "}\n",
       "</style><div id=\"sk-container-id-1\" class=\"sk-top-container\"><div class=\"sk-text-repr-fallback\"><pre>RFE(estimator=RandomForestRegressor(random_state=42), n_features_to_select=9)</pre><b>In a Jupyter environment, please rerun this cell to show the HTML representation or trust the notebook. <br />On GitHub, the HTML representation is unable to render, please try loading this page with nbviewer.org.</b></div><div class=\"sk-container\" hidden><div class=\"sk-item sk-dashed-wrapped\"><div class=\"sk-label-container\"><div class=\"sk-label fitted sk-toggleable\"><input class=\"sk-toggleable__control sk-hidden--visually\" id=\"sk-estimator-id-1\" type=\"checkbox\" ><label for=\"sk-estimator-id-1\" class=\"sk-toggleable__label fitted sk-toggleable__label-arrow fitted\">&nbsp;&nbsp;RFE<a class=\"sk-estimator-doc-link fitted\" rel=\"noreferrer\" target=\"_blank\" href=\"https://scikit-learn.org/1.5/modules/generated/sklearn.feature_selection.RFE.html\">?<span>Documentation for RFE</span></a><span class=\"sk-estimator-doc-link fitted\">i<span>Fitted</span></span></label><div class=\"sk-toggleable__content fitted\"><pre>RFE(estimator=RandomForestRegressor(random_state=42), n_features_to_select=9)</pre></div> </div></div><div class=\"sk-parallel\"><div class=\"sk-parallel-item\"><div class=\"sk-item\"><div class=\"sk-label-container\"><div class=\"sk-label fitted sk-toggleable\"><input class=\"sk-toggleable__control sk-hidden--visually\" id=\"sk-estimator-id-2\" type=\"checkbox\" ><label for=\"sk-estimator-id-2\" class=\"sk-toggleable__label fitted sk-toggleable__label-arrow fitted\">estimator: RandomForestRegressor</label><div class=\"sk-toggleable__content fitted\"><pre>RandomForestRegressor(random_state=42)</pre></div> </div></div><div class=\"sk-serial\"><div class=\"sk-item\"><div class=\"sk-estimator fitted sk-toggleable\"><input class=\"sk-toggleable__control sk-hidden--visually\" id=\"sk-estimator-id-3\" type=\"checkbox\" ><label for=\"sk-estimator-id-3\" class=\"sk-toggleable__label fitted sk-toggleable__label-arrow fitted\">&nbsp;RandomForestRegressor<a class=\"sk-estimator-doc-link fitted\" rel=\"noreferrer\" target=\"_blank\" href=\"https://scikit-learn.org/1.5/modules/generated/sklearn.ensemble.RandomForestRegressor.html\">?<span>Documentation for RandomForestRegressor</span></a></label><div class=\"sk-toggleable__content fitted\"><pre>RandomForestRegressor(random_state=42)</pre></div> </div></div></div></div></div></div></div></div></div>"
      ],
      "text/plain": [
       "RFE(estimator=RandomForestRegressor(random_state=42), n_features_to_select=9)"
      ]
     },
     "execution_count": 52,
     "metadata": {},
     "output_type": "execute_result"
    }
   ],
   "source": [
    "#Feature selection using recursive feature elimination\n",
    "from sklearn.feature_selection import RFE\n",
    "\n",
    "\n",
    "feature_tree = RandomForestRegressor(random_state = 42)\n",
    "recursivefe = RFE(estimator = feature_tree, n_features_to_select = 9)\n",
    "recursivefe.fit(X_train2, y_train2)"
   ]
  },
  {
   "cell_type": "code",
   "execution_count": 53,
   "id": "ff800937",
   "metadata": {},
   "outputs": [],
   "source": [
    "#Unscaling and rescaling X_sets, to allow for input data scaling later w/ selected features\n",
    "X_train2.values[:] = scale2.inverse_transform(X_train2)\n",
    "X_test2.values[:] = scale2.inverse_transform(X_test2)"
   ]
  },
  {
   "cell_type": "code",
   "execution_count": 54,
   "id": "33abc8f6",
   "metadata": {},
   "outputs": [
    {
     "data": {
      "text/plain": [
       "Index(['MolWt', 'MolLogP', 'MolMR', 'NumHeteroatoms', 'NumRotatableBonds',\n",
       "       'TPSA', 'LabuteASA', 'BalabanJ', 'BertzCT'],\n",
       "      dtype='object')"
      ]
     },
     "execution_count": 54,
     "metadata": {},
     "output_type": "execute_result"
    }
   ],
   "source": [
    "#Dropping columns selected by RFE\n",
    "X_train2_rfe = recursivefe.transform(X_train2)\n",
    "X_test2_rfe = recursivefe.transform(X_test2)\n",
    "X_train2.columns[(recursivefe.get_support())]"
   ]
  },
  {
   "cell_type": "code",
   "execution_count": 55,
   "id": "74aae245",
   "metadata": {},
   "outputs": [],
   "source": [
    "#Creating final scaler to use and import to flask directory\n",
    "final_scale = StandardScaler()\n",
    "\n",
    "final_scale.fit(X_train2_rfe)\n",
    "X_train2_rfe = final_scale.fit_transform(X_train2_rfe)\n",
    "X_test2_rfe = final_scale.transform(X_test2_rfe)"
   ]
  },
  {
   "cell_type": "code",
   "execution_count": 56,
   "id": "4d3e7040",
   "metadata": {},
   "outputs": [
    {
     "data": {
      "text/plain": [
       "1.1815972817681588"
      ]
     },
     "execution_count": 56,
     "metadata": {},
     "output_type": "execute_result"
    }
   ],
   "source": [
    "#Viewing RMSE of training data with RFE features removed\n",
    "rand_for = RandomForestRegressor(n_estimators= 2000, min_samples_split= 2, max_depth= 42, random_state= 42)\n",
    "rand_for.fit(X_train2_rfe, y_train2)\n",
    "-cross_val_score(rand_for, X_train2_rfe, y_train2, cv = 3, scoring = 'neg_root_mean_squared_error').mean()"
   ]
  },
  {
   "cell_type": "markdown",
   "id": "681a6282",
   "metadata": {},
   "source": [
    "The recursive feature elimination process resulted in a RandomForestRegressor model with a slightly lower RMSE then the RandomForestRegressor model trained on the manually selected features. Therefore, the final model will be subsequently tested, utilizing the features chosen by RFE."
   ]
  },
  {
   "cell_type": "markdown",
   "id": "a7e19c1f",
   "metadata": {},
   "source": [
    "The RandomForestRegressor will now be tried on the test set to see the generalization error and if any over/underfitting has occured."
   ]
  },
  {
   "cell_type": "code",
   "execution_count": 57,
   "id": "5aff1966",
   "metadata": {},
   "outputs": [
    {
     "name": "stdout",
     "output_type": "stream",
     "text": [
      "RandomForestRegressor RMSE:  1.248442670601765\n"
     ]
    }
   ],
   "source": [
    "#Calculating rmse on the test set\n",
    "gen_error_rfr = -cross_val_score(rand_for, X_test2_rfe, y_test2, cv = 3, scoring = 'neg_root_mean_squared_error').mean()\n",
    "\n",
    "print('RandomForestRegressor RMSE: ', gen_error_rfr)"
   ]
  },
  {
   "cell_type": "markdown",
   "id": "8d5765a1",
   "metadata": {},
   "source": [
    "The generalization error of the RandomForestRegressor is similar to that of the training set, indicating that no significant over/underfitting has occured. The RMSE of 1.2484 indicates that the aqueous solubility of a molecule can be accurately predicted 95% of the time within 2.4968 units."
   ]
  },
  {
   "cell_type": "markdown",
   "id": "eb3d632c",
   "metadata": {},
   "source": [
    "### Future Direction\n",
    "Based on the results of recursive feature elimination as well as the removal of the feature with the highest vif, and feature with the lowest correlation; it is unlikely that the models will improve immensely due to futher feature selection. For future attempts at predicting aqueous solubility, one may recommend obtaining the data of more chemicals as well as testing/adding other possibly relevant features related to solubility, such as melting and boiling point."
   ]
  },
  {
   "cell_type": "code",
   "execution_count": 58,
   "id": "453f5b3c",
   "metadata": {
    "scrolled": true
   },
   "outputs": [],
   "source": [
    "data2 = chem.copy()\n",
    "data2 = data2['SD']\n",
    "\n",
    "train_sd, test_sc = train_test_split(data2, test_size = 0.2, random_state = 42)"
   ]
  },
  {
   "cell_type": "code",
   "execution_count": 59,
   "id": "a35af8d3",
   "metadata": {},
   "outputs": [
    {
     "data": {
      "text/html": [
       "<div>\n",
       "<style scoped>\n",
       "    .dataframe tbody tr th:only-of-type {\n",
       "        vertical-align: middle;\n",
       "    }\n",
       "\n",
       "    .dataframe tbody tr th {\n",
       "        vertical-align: top;\n",
       "    }\n",
       "\n",
       "    .dataframe thead th {\n",
       "        text-align: right;\n",
       "    }\n",
       "</style>\n",
       "<table border=\"1\" class=\"dataframe\">\n",
       "  <thead>\n",
       "    <tr style=\"text-align: right;\">\n",
       "      <th></th>\n",
       "      <th>Prediction</th>\n",
       "      <th>Actual</th>\n",
       "      <th>SD</th>\n",
       "    </tr>\n",
       "  </thead>\n",
       "  <tbody>\n",
       "    <tr>\n",
       "      <th>1253</th>\n",
       "      <td>-4.078025</td>\n",
       "      <td>-5.984242</td>\n",
       "      <td>0.000000</td>\n",
       "    </tr>\n",
       "    <tr>\n",
       "      <th>9930</th>\n",
       "      <td>-3.754603</td>\n",
       "      <td>-4.160000</td>\n",
       "      <td>0.158641</td>\n",
       "    </tr>\n",
       "    <tr>\n",
       "      <th>7046</th>\n",
       "      <td>-3.566235</td>\n",
       "      <td>-2.283900</td>\n",
       "      <td>0.000000</td>\n",
       "    </tr>\n",
       "    <tr>\n",
       "      <th>8711</th>\n",
       "      <td>-4.110700</td>\n",
       "      <td>-4.230000</td>\n",
       "      <td>0.000000</td>\n",
       "    </tr>\n",
       "    <tr>\n",
       "      <th>6880</th>\n",
       "      <td>-0.311001</td>\n",
       "      <td>0.552600</td>\n",
       "      <td>0.000000</td>\n",
       "    </tr>\n",
       "    <tr>\n",
       "      <th>1056</th>\n",
       "      <td>-2.022307</td>\n",
       "      <td>-2.153178</td>\n",
       "      <td>0.295489</td>\n",
       "    </tr>\n",
       "    <tr>\n",
       "      <th>35</th>\n",
       "      <td>-4.157014</td>\n",
       "      <td>-4.793228</td>\n",
       "      <td>0.000000</td>\n",
       "    </tr>\n",
       "    <tr>\n",
       "      <th>9682</th>\n",
       "      <td>-2.432089</td>\n",
       "      <td>-2.390000</td>\n",
       "      <td>0.065135</td>\n",
       "    </tr>\n",
       "    <tr>\n",
       "      <th>2168</th>\n",
       "      <td>-1.051698</td>\n",
       "      <td>0.166535</td>\n",
       "      <td>0.000000</td>\n",
       "    </tr>\n",
       "    <tr>\n",
       "      <th>6952</th>\n",
       "      <td>-1.518077</td>\n",
       "      <td>-1.496900</td>\n",
       "      <td>0.042011</td>\n",
       "    </tr>\n",
       "  </tbody>\n",
       "</table>\n",
       "</div>"
      ],
      "text/plain": [
       "      Prediction    Actual        SD\n",
       "1253   -4.078025 -5.984242  0.000000\n",
       "9930   -3.754603 -4.160000  0.158641\n",
       "7046   -3.566235 -2.283900  0.000000\n",
       "8711   -4.110700 -4.230000  0.000000\n",
       "6880   -0.311001  0.552600  0.000000\n",
       "1056   -2.022307 -2.153178  0.295489\n",
       "35     -4.157014 -4.793228  0.000000\n",
       "9682   -2.432089 -2.390000  0.065135\n",
       "2168   -1.051698  0.166535  0.000000\n",
       "6952   -1.518077 -1.496900  0.042011"
      ]
     },
     "execution_count": 59,
     "metadata": {},
     "output_type": "execute_result"
    }
   ],
   "source": [
    "#Testing the current best model\n",
    "model_predictions = rand_for.predict(X_test2_rfe[:10])\n",
    "actual_solubility = y_test2[:10]\n",
    "Results_df = pd.DataFrame(data = {'Prediction': model_predictions, 'Actual': actual_solubility, 'SD': test_sc[:10]})\n",
    "Results_df"
   ]
  },
  {
   "cell_type": "markdown",
   "id": "42f7358a",
   "metadata": {},
   "source": [
    "### Exporting Model for UI"
   ]
  },
  {
   "cell_type": "code",
   "execution_count": 61,
   "id": "df31bb96",
   "metadata": {},
   "outputs": [
    {
     "data": {
      "text/plain": [
       "['final_chem_model.pkl']"
      ]
     },
     "execution_count": 61,
     "metadata": {},
     "output_type": "execute_result"
    }
   ],
   "source": [
    "#Exporting model to Pickle File\n",
    "import joblib\n",
    "joblib.dump(rand_for, 'final_chem_model.pkl', compress=1)\n"
   ]
  },
  {
   "cell_type": "code",
   "execution_count": null,
   "id": "9b5bce8e",
   "metadata": {},
   "outputs": [],
   "source": [
    "#Exporting scaler\n",
    "joblib.dump(final_scale, 'std_scaler.pkl', compress = 1)"
   ]
  },
  {
   "cell_type": "code",
   "execution_count": 65,
   "id": "0528223c",
   "metadata": {},
   "outputs": [
    {
     "name": "stderr",
     "output_type": "stream",
     "text": [
      "D:\\Python\\Lib\\site-packages\\sklearn\\base.py:486: UserWarning: X has feature names, but StandardScaler was fitted without feature names\n",
      "  warnings.warn(\n"
     ]
    },
    {
     "data": {
      "text/plain": [
       "array([-0.31064007])"
      ]
     },
     "execution_count": 65,
     "metadata": {},
     "output_type": "execute_result"
    }
   ],
   "source": [
    "#Testing the pkl file\n",
    "data_test = pd.DataFrame({'MolWt': [140.75], 'MolLogP': [1.0337], 'MolMR': [28.6335], 'NumHeteroatoms': [5],\n",
    "                    'NumRotatableBonds': [3], 'TPSA': [44.76], 'LabuteASA': [48.359382], 'Balabanj': [3.79101],\n",
    "                    'BertzCT': [82.436995]})\n",
    "data_test = final_scale.transform(data_test)\n",
    "file = open('final_chem_model.pkl', 'rb')\n",
    "\n",
    "trained_model = joblib.load(file)\n",
    "\n",
    "prediction = trained_model.predict(data_test)\n",
    "prediction"
   ]
  }
 ],
 "metadata": {
  "kernelspec": {
   "display_name": "Python 3 (ipykernel)",
   "language": "python",
   "name": "python3"
  },
  "language_info": {
   "codemirror_mode": {
    "name": "ipython",
    "version": 3
   },
   "file_extension": ".py",
   "mimetype": "text/x-python",
   "name": "python",
   "nbconvert_exporter": "python",
   "pygments_lexer": "ipython3",
   "version": "3.11.4"
  }
 },
 "nbformat": 4,
 "nbformat_minor": 5
}
